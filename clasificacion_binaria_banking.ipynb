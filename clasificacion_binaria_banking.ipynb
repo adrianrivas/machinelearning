{
  "nbformat": 4,
  "nbformat_minor": 0,
  "metadata": {
    "colab": {
      "name": "clasificacion_binaria_banking.ipynb",
      "provenance": [],
      "collapsed_sections": [],
      "include_colab_link": true
    },
    "kernelspec": {
      "name": "python3",
      "display_name": "Python 3"
    },
    "language_info": {
      "name": "python"
    }
  },
  "cells": [
    {
      "cell_type": "markdown",
      "metadata": {
        "id": "view-in-github",
        "colab_type": "text"
      },
      "source": [
        "<a href=\"https://colab.research.google.com/github/adrianrivas/machinelearning/blob/main/clasificacion_binaria_banking.ipynb\" target=\"_parent\"><img src=\"https://colab.research.google.com/assets/colab-badge.svg\" alt=\"Open In Colab\"/></a>"
      ]
    },
    {
      "cell_type": "markdown",
      "metadata": {
        "id": "k-zKtMiT7oO0"
      },
      "source": [
        "# **Contexto**"
      ]
    },
    {
      "cell_type": "markdown",
      "metadata": {
        "id": "Eb1RqLG0zcAf"
      },
      "source": [
        "El siguiente es un problema de clasificación, cuyo objetivo es predecir si un cliente de un banco tomará o no un CDT (déposito a término) ofrecido en una campaña de telemarketing. Lo anterior, con el proposito de enfocar recursos valiosos, como lo son el tiempo y dinero, en verdaderos clientes potenciales.\n",
        "\n",
        "El dataset contiene en 49732 registros y 17 columnas:\n",
        "\n",
        "Datos del cliente:\n",
        "1. age: edad\n",
        "2. job: tipo de trabajo (\"admin.\",\"unknown\",\"unemployed\",\"management\",\"housemaid\",\"entrepreneur\",\"student\", \"blue-collar\",\"self-employed\",\"retired\",\"technician\",\"services\")\n",
        "3. marital : estado civil (\"married\",\"divorced\",\"single\")\n",
        "4. education: nivel de educación (categorical: \"unknown\",\"secondary\",\"primary\",\"tertiary\")\n",
        "5. default: Tiene deudas (créditos) con el banco? (binary: \"yes\",\"no\")\n",
        "6. balance: balance de cuenta anual promedio, en euros (numeric)\n",
        "7. housing: crédito de vivienda (binary: \"yes\",\"no\")\n",
        "8. loan: créditos personales (binary: \"yes\",\"no\")\n",
        "\n",
        "\n",
        "Datos del último contacto en campaña de telemarketing:\n",
        "9. contact: tipo de contacto (categorical: \"unknown\",\"telephone\",\"cellular\")\n",
        "10. day: último día del mes contactado (numeric)\n",
        "11. month: último mes de contacto (categorical: \"jan\", \"feb\", \"mar\", …, \"nov\", \"dec\")\n",
        "12. duration: duración del último contacto en segundos (numeric)\n",
        "\n",
        "\n",
        "Otros atributos:\n",
        "13. campaign: número de veces que se ha contactado al cliente durante la campaña (numeric, includes last contact)\n",
        "14. pdays: número de días que han pasado desde la última vez que se contacto al cliente (numeric, -1 significa que no se ha contactado previamente)\n",
        "15. previous: número de veces que se ha contactado al cliente en campañas previas (numeric)\n",
        "16. poutcome: resultado de la última campaña (categorical: \"unknown\",\"other\",\"failure\",\"success\")\n",
        "\n",
        "Variable objetivo:\n",
        "18. y: el cliente adquirió un CDT? (binary: \"yes\",\"no\")\n",
        "\n",
        "El dataset puede ser encontrado en: https://www.kaggle.com/prakharrathi25/banking-dataset-marketing-targets?select=train.csv\n"
      ]
    },
    {
      "cell_type": "markdown",
      "metadata": {
        "id": "We9wmN0s73Ii"
      },
      "source": [
        "# **Desarrollo del ejercicio**"
      ]
    },
    {
      "cell_type": "markdown",
      "metadata": {
        "id": "EaxSUkv4AQR2"
      },
      "source": [
        "Importar librerías a usar durante el ejercicio."
      ]
    },
    {
      "cell_type": "code",
      "metadata": {
        "id": "bTaVHEjG_kb3"
      },
      "source": [
        "import numpy as np\n",
        "import pandas as pd\n",
        "\n",
        "# Visualization\n",
        "import matplotlib.pyplot as plt\n",
        "import graphviz\n",
        "\n",
        "# Data processing, modeling, and model evaluation\n",
        "from sklearn.preprocessing import StandardScaler\n",
        "from sklearn.decomposition import PCA\n",
        "from sklearn.neighbors import KNeighborsClassifier\n",
        "from sklearn.tree import DecisionTreeClassifier\n",
        "from sklearn.ensemble import RandomForestClassifier\n",
        "from sklearn.model_selection import train_test_split\n",
        "from sklearn.metrics import f1_score, classification_report, plot_confusion_matrix\n",
        "from sklearn.tree import export_graphviz\n",
        "from sklearn.linear_model import LogisticRegression\n",
        "from sklearn.metrics import plot_roc_curve\n",
        "from sklearn.metrics import roc_auc_score\n",
        "from sklearn.ensemble import GradientBoostingClassifier\n",
        "\n",
        "# Randomization\n",
        "import random\n",
        "\n",
        "#Estandarización\n",
        "from sklearn.preprocessing import MinMaxScaler"
      ],
      "execution_count": null,
      "outputs": []
    },
    {
      "cell_type": "markdown",
      "metadata": {
        "id": "6bhnPRkaAWen"
      },
      "source": [
        "Importar dataset como dataframe"
      ]
    },
    {
      "cell_type": "code",
      "metadata": {
        "colab": {
          "base_uri": "https://localhost:8080/",
          "height": 224
        },
        "id": "O1nwULLp_sC9",
        "outputId": "27b61bbd-be4a-4f08-e10a-55efc5bcc6bb"
      },
      "source": [
        "train_df = pd.read_csv(\"train.csv\",sep =\";\")\n",
        "test_df = pd.read_csv(\"test.csv\", sep =\";\")\n",
        "train_df.head()"
      ],
      "execution_count": null,
      "outputs": [
        {
          "output_type": "execute_result",
          "data": {
            "text/html": [
              "<div>\n",
              "<style scoped>\n",
              "    .dataframe tbody tr th:only-of-type {\n",
              "        vertical-align: middle;\n",
              "    }\n",
              "\n",
              "    .dataframe tbody tr th {\n",
              "        vertical-align: top;\n",
              "    }\n",
              "\n",
              "    .dataframe thead th {\n",
              "        text-align: right;\n",
              "    }\n",
              "</style>\n",
              "<table border=\"1\" class=\"dataframe\">\n",
              "  <thead>\n",
              "    <tr style=\"text-align: right;\">\n",
              "      <th></th>\n",
              "      <th>age</th>\n",
              "      <th>job</th>\n",
              "      <th>marital</th>\n",
              "      <th>education</th>\n",
              "      <th>default</th>\n",
              "      <th>balance</th>\n",
              "      <th>housing</th>\n",
              "      <th>loan</th>\n",
              "      <th>contact</th>\n",
              "      <th>day</th>\n",
              "      <th>month</th>\n",
              "      <th>duration</th>\n",
              "      <th>campaign</th>\n",
              "      <th>pdays</th>\n",
              "      <th>previous</th>\n",
              "      <th>poutcome</th>\n",
              "      <th>y</th>\n",
              "    </tr>\n",
              "  </thead>\n",
              "  <tbody>\n",
              "    <tr>\n",
              "      <th>0</th>\n",
              "      <td>58</td>\n",
              "      <td>management</td>\n",
              "      <td>married</td>\n",
              "      <td>tertiary</td>\n",
              "      <td>no</td>\n",
              "      <td>2143</td>\n",
              "      <td>yes</td>\n",
              "      <td>no</td>\n",
              "      <td>unknown</td>\n",
              "      <td>5</td>\n",
              "      <td>may</td>\n",
              "      <td>261</td>\n",
              "      <td>1</td>\n",
              "      <td>-1</td>\n",
              "      <td>0</td>\n",
              "      <td>unknown</td>\n",
              "      <td>no</td>\n",
              "    </tr>\n",
              "    <tr>\n",
              "      <th>1</th>\n",
              "      <td>44</td>\n",
              "      <td>technician</td>\n",
              "      <td>single</td>\n",
              "      <td>secondary</td>\n",
              "      <td>no</td>\n",
              "      <td>29</td>\n",
              "      <td>yes</td>\n",
              "      <td>no</td>\n",
              "      <td>unknown</td>\n",
              "      <td>5</td>\n",
              "      <td>may</td>\n",
              "      <td>151</td>\n",
              "      <td>1</td>\n",
              "      <td>-1</td>\n",
              "      <td>0</td>\n",
              "      <td>unknown</td>\n",
              "      <td>no</td>\n",
              "    </tr>\n",
              "    <tr>\n",
              "      <th>2</th>\n",
              "      <td>33</td>\n",
              "      <td>entrepreneur</td>\n",
              "      <td>married</td>\n",
              "      <td>secondary</td>\n",
              "      <td>no</td>\n",
              "      <td>2</td>\n",
              "      <td>yes</td>\n",
              "      <td>yes</td>\n",
              "      <td>unknown</td>\n",
              "      <td>5</td>\n",
              "      <td>may</td>\n",
              "      <td>76</td>\n",
              "      <td>1</td>\n",
              "      <td>-1</td>\n",
              "      <td>0</td>\n",
              "      <td>unknown</td>\n",
              "      <td>no</td>\n",
              "    </tr>\n",
              "    <tr>\n",
              "      <th>3</th>\n",
              "      <td>47</td>\n",
              "      <td>blue-collar</td>\n",
              "      <td>married</td>\n",
              "      <td>unknown</td>\n",
              "      <td>no</td>\n",
              "      <td>1506</td>\n",
              "      <td>yes</td>\n",
              "      <td>no</td>\n",
              "      <td>unknown</td>\n",
              "      <td>5</td>\n",
              "      <td>may</td>\n",
              "      <td>92</td>\n",
              "      <td>1</td>\n",
              "      <td>-1</td>\n",
              "      <td>0</td>\n",
              "      <td>unknown</td>\n",
              "      <td>no</td>\n",
              "    </tr>\n",
              "    <tr>\n",
              "      <th>4</th>\n",
              "      <td>33</td>\n",
              "      <td>unknown</td>\n",
              "      <td>single</td>\n",
              "      <td>unknown</td>\n",
              "      <td>no</td>\n",
              "      <td>1</td>\n",
              "      <td>no</td>\n",
              "      <td>no</td>\n",
              "      <td>unknown</td>\n",
              "      <td>5</td>\n",
              "      <td>may</td>\n",
              "      <td>198</td>\n",
              "      <td>1</td>\n",
              "      <td>-1</td>\n",
              "      <td>0</td>\n",
              "      <td>unknown</td>\n",
              "      <td>no</td>\n",
              "    </tr>\n",
              "  </tbody>\n",
              "</table>\n",
              "</div>"
            ],
            "text/plain": [
              "   age           job  marital  education  ... pdays  previous poutcome   y\n",
              "0   58    management  married   tertiary  ...    -1         0  unknown  no\n",
              "1   44    technician   single  secondary  ...    -1         0  unknown  no\n",
              "2   33  entrepreneur  married  secondary  ...    -1         0  unknown  no\n",
              "3   47   blue-collar  married    unknown  ...    -1         0  unknown  no\n",
              "4   33       unknown   single    unknown  ...    -1         0  unknown  no\n",
              "\n",
              "[5 rows x 17 columns]"
            ]
          },
          "metadata": {},
          "execution_count": 3
        }
      ]
    },
    {
      "cell_type": "code",
      "metadata": {
        "colab": {
          "base_uri": "https://localhost:8080/"
        },
        "id": "wWe_SuNGAG__",
        "outputId": "36df0c42-ce82-4e0b-993f-e2b7df36517b"
      },
      "source": [
        "df = pd.concat([train_df,test_df], ignore_index=True)\n",
        "df.shape"
      ],
      "execution_count": null,
      "outputs": [
        {
          "output_type": "execute_result",
          "data": {
            "text/plain": [
              "(49732, 17)"
            ]
          },
          "metadata": {},
          "execution_count": 4
        }
      ]
    },
    {
      "cell_type": "code",
      "metadata": {
        "colab": {
          "base_uri": "https://localhost:8080/"
        },
        "id": "BsXikK8ZTa94",
        "outputId": "b95e0ae7-b1f0-4412-f219-6f62f3e36e34"
      },
      "source": [
        "df.info()"
      ],
      "execution_count": null,
      "outputs": [
        {
          "output_type": "stream",
          "text": [
            "<class 'pandas.core.frame.DataFrame'>\n",
            "RangeIndex: 49732 entries, 0 to 49731\n",
            "Data columns (total 17 columns):\n",
            " #   Column     Non-Null Count  Dtype \n",
            "---  ------     --------------  ----- \n",
            " 0   age        49732 non-null  int64 \n",
            " 1   job        49732 non-null  object\n",
            " 2   marital    49732 non-null  object\n",
            " 3   education  49732 non-null  object\n",
            " 4   default    49732 non-null  object\n",
            " 5   balance    49732 non-null  int64 \n",
            " 6   housing    49732 non-null  object\n",
            " 7   loan       49732 non-null  object\n",
            " 8   contact    49732 non-null  object\n",
            " 9   day        49732 non-null  int64 \n",
            " 10  month      49732 non-null  object\n",
            " 11  duration   49732 non-null  int64 \n",
            " 12  campaign   49732 non-null  int64 \n",
            " 13  pdays      49732 non-null  int64 \n",
            " 14  previous   49732 non-null  int64 \n",
            " 15  poutcome   49732 non-null  object\n",
            " 16  y          49732 non-null  object\n",
            "dtypes: int64(7), object(10)\n",
            "memory usage: 6.5+ MB\n"
          ],
          "name": "stdout"
        }
      ]
    },
    {
      "cell_type": "markdown",
      "metadata": {
        "id": "9ZX0VQZw3DPP"
      },
      "source": [
        "El dataset no contiene datos nulos, y las variables son de tipo númericas y categoricas."
      ]
    },
    {
      "cell_type": "code",
      "metadata": {
        "colab": {
          "base_uri": "https://localhost:8080/",
          "height": 427
        },
        "id": "SQJR4AHdTdx4",
        "outputId": "398201c1-e0f7-49e4-8893-c4b81b869c33"
      },
      "source": [
        "df.describe(include ='all')"
      ],
      "execution_count": null,
      "outputs": [
        {
          "output_type": "execute_result",
          "data": {
            "text/html": [
              "<div>\n",
              "<style scoped>\n",
              "    .dataframe tbody tr th:only-of-type {\n",
              "        vertical-align: middle;\n",
              "    }\n",
              "\n",
              "    .dataframe tbody tr th {\n",
              "        vertical-align: top;\n",
              "    }\n",
              "\n",
              "    .dataframe thead th {\n",
              "        text-align: right;\n",
              "    }\n",
              "</style>\n",
              "<table border=\"1\" class=\"dataframe\">\n",
              "  <thead>\n",
              "    <tr style=\"text-align: right;\">\n",
              "      <th></th>\n",
              "      <th>age</th>\n",
              "      <th>job</th>\n",
              "      <th>marital</th>\n",
              "      <th>education</th>\n",
              "      <th>default</th>\n",
              "      <th>balance</th>\n",
              "      <th>housing</th>\n",
              "      <th>loan</th>\n",
              "      <th>contact</th>\n",
              "      <th>day</th>\n",
              "      <th>month</th>\n",
              "      <th>duration</th>\n",
              "      <th>campaign</th>\n",
              "      <th>pdays</th>\n",
              "      <th>previous</th>\n",
              "      <th>poutcome</th>\n",
              "      <th>y</th>\n",
              "    </tr>\n",
              "  </thead>\n",
              "  <tbody>\n",
              "    <tr>\n",
              "      <th>count</th>\n",
              "      <td>49732.000000</td>\n",
              "      <td>49732</td>\n",
              "      <td>49732</td>\n",
              "      <td>49732</td>\n",
              "      <td>49732</td>\n",
              "      <td>49732.000000</td>\n",
              "      <td>49732</td>\n",
              "      <td>49732</td>\n",
              "      <td>49732</td>\n",
              "      <td>49732.000000</td>\n",
              "      <td>49732</td>\n",
              "      <td>49732.000000</td>\n",
              "      <td>49732.000000</td>\n",
              "      <td>49732.000000</td>\n",
              "      <td>49732.000000</td>\n",
              "      <td>49732</td>\n",
              "      <td>49732</td>\n",
              "    </tr>\n",
              "    <tr>\n",
              "      <th>unique</th>\n",
              "      <td>NaN</td>\n",
              "      <td>12</td>\n",
              "      <td>3</td>\n",
              "      <td>4</td>\n",
              "      <td>2</td>\n",
              "      <td>NaN</td>\n",
              "      <td>2</td>\n",
              "      <td>2</td>\n",
              "      <td>3</td>\n",
              "      <td>NaN</td>\n",
              "      <td>12</td>\n",
              "      <td>NaN</td>\n",
              "      <td>NaN</td>\n",
              "      <td>NaN</td>\n",
              "      <td>NaN</td>\n",
              "      <td>4</td>\n",
              "      <td>2</td>\n",
              "    </tr>\n",
              "    <tr>\n",
              "      <th>top</th>\n",
              "      <td>NaN</td>\n",
              "      <td>blue-collar</td>\n",
              "      <td>married</td>\n",
              "      <td>secondary</td>\n",
              "      <td>no</td>\n",
              "      <td>NaN</td>\n",
              "      <td>yes</td>\n",
              "      <td>no</td>\n",
              "      <td>cellular</td>\n",
              "      <td>NaN</td>\n",
              "      <td>may</td>\n",
              "      <td>NaN</td>\n",
              "      <td>NaN</td>\n",
              "      <td>NaN</td>\n",
              "      <td>NaN</td>\n",
              "      <td>unknown</td>\n",
              "      <td>no</td>\n",
              "    </tr>\n",
              "    <tr>\n",
              "      <th>freq</th>\n",
              "      <td>NaN</td>\n",
              "      <td>10678</td>\n",
              "      <td>30011</td>\n",
              "      <td>25508</td>\n",
              "      <td>48841</td>\n",
              "      <td>NaN</td>\n",
              "      <td>27689</td>\n",
              "      <td>41797</td>\n",
              "      <td>32181</td>\n",
              "      <td>NaN</td>\n",
              "      <td>15164</td>\n",
              "      <td>NaN</td>\n",
              "      <td>NaN</td>\n",
              "      <td>NaN</td>\n",
              "      <td>NaN</td>\n",
              "      <td>40664</td>\n",
              "      <td>43922</td>\n",
              "    </tr>\n",
              "    <tr>\n",
              "      <th>mean</th>\n",
              "      <td>40.957472</td>\n",
              "      <td>NaN</td>\n",
              "      <td>NaN</td>\n",
              "      <td>NaN</td>\n",
              "      <td>NaN</td>\n",
              "      <td>1367.761562</td>\n",
              "      <td>NaN</td>\n",
              "      <td>NaN</td>\n",
              "      <td>NaN</td>\n",
              "      <td>15.816315</td>\n",
              "      <td>NaN</td>\n",
              "      <td>258.690179</td>\n",
              "      <td>2.766549</td>\n",
              "      <td>40.158630</td>\n",
              "      <td>0.576892</td>\n",
              "      <td>NaN</td>\n",
              "      <td>NaN</td>\n",
              "    </tr>\n",
              "    <tr>\n",
              "      <th>std</th>\n",
              "      <td>10.615008</td>\n",
              "      <td>NaN</td>\n",
              "      <td>NaN</td>\n",
              "      <td>NaN</td>\n",
              "      <td>NaN</td>\n",
              "      <td>3041.608766</td>\n",
              "      <td>NaN</td>\n",
              "      <td>NaN</td>\n",
              "      <td>NaN</td>\n",
              "      <td>8.315680</td>\n",
              "      <td>NaN</td>\n",
              "      <td>257.743149</td>\n",
              "      <td>3.099075</td>\n",
              "      <td>100.127123</td>\n",
              "      <td>2.254838</td>\n",
              "      <td>NaN</td>\n",
              "      <td>NaN</td>\n",
              "    </tr>\n",
              "    <tr>\n",
              "      <th>min</th>\n",
              "      <td>18.000000</td>\n",
              "      <td>NaN</td>\n",
              "      <td>NaN</td>\n",
              "      <td>NaN</td>\n",
              "      <td>NaN</td>\n",
              "      <td>-8019.000000</td>\n",
              "      <td>NaN</td>\n",
              "      <td>NaN</td>\n",
              "      <td>NaN</td>\n",
              "      <td>1.000000</td>\n",
              "      <td>NaN</td>\n",
              "      <td>0.000000</td>\n",
              "      <td>1.000000</td>\n",
              "      <td>-1.000000</td>\n",
              "      <td>0.000000</td>\n",
              "      <td>NaN</td>\n",
              "      <td>NaN</td>\n",
              "    </tr>\n",
              "    <tr>\n",
              "      <th>25%</th>\n",
              "      <td>33.000000</td>\n",
              "      <td>NaN</td>\n",
              "      <td>NaN</td>\n",
              "      <td>NaN</td>\n",
              "      <td>NaN</td>\n",
              "      <td>72.000000</td>\n",
              "      <td>NaN</td>\n",
              "      <td>NaN</td>\n",
              "      <td>NaN</td>\n",
              "      <td>8.000000</td>\n",
              "      <td>NaN</td>\n",
              "      <td>103.000000</td>\n",
              "      <td>1.000000</td>\n",
              "      <td>-1.000000</td>\n",
              "      <td>0.000000</td>\n",
              "      <td>NaN</td>\n",
              "      <td>NaN</td>\n",
              "    </tr>\n",
              "    <tr>\n",
              "      <th>50%</th>\n",
              "      <td>39.000000</td>\n",
              "      <td>NaN</td>\n",
              "      <td>NaN</td>\n",
              "      <td>NaN</td>\n",
              "      <td>NaN</td>\n",
              "      <td>448.000000</td>\n",
              "      <td>NaN</td>\n",
              "      <td>NaN</td>\n",
              "      <td>NaN</td>\n",
              "      <td>16.000000</td>\n",
              "      <td>NaN</td>\n",
              "      <td>180.000000</td>\n",
              "      <td>2.000000</td>\n",
              "      <td>-1.000000</td>\n",
              "      <td>0.000000</td>\n",
              "      <td>NaN</td>\n",
              "      <td>NaN</td>\n",
              "    </tr>\n",
              "    <tr>\n",
              "      <th>75%</th>\n",
              "      <td>48.000000</td>\n",
              "      <td>NaN</td>\n",
              "      <td>NaN</td>\n",
              "      <td>NaN</td>\n",
              "      <td>NaN</td>\n",
              "      <td>1431.000000</td>\n",
              "      <td>NaN</td>\n",
              "      <td>NaN</td>\n",
              "      <td>NaN</td>\n",
              "      <td>21.000000</td>\n",
              "      <td>NaN</td>\n",
              "      <td>320.000000</td>\n",
              "      <td>3.000000</td>\n",
              "      <td>-1.000000</td>\n",
              "      <td>0.000000</td>\n",
              "      <td>NaN</td>\n",
              "      <td>NaN</td>\n",
              "    </tr>\n",
              "    <tr>\n",
              "      <th>max</th>\n",
              "      <td>95.000000</td>\n",
              "      <td>NaN</td>\n",
              "      <td>NaN</td>\n",
              "      <td>NaN</td>\n",
              "      <td>NaN</td>\n",
              "      <td>102127.000000</td>\n",
              "      <td>NaN</td>\n",
              "      <td>NaN</td>\n",
              "      <td>NaN</td>\n",
              "      <td>31.000000</td>\n",
              "      <td>NaN</td>\n",
              "      <td>4918.000000</td>\n",
              "      <td>63.000000</td>\n",
              "      <td>871.000000</td>\n",
              "      <td>275.000000</td>\n",
              "      <td>NaN</td>\n",
              "      <td>NaN</td>\n",
              "    </tr>\n",
              "  </tbody>\n",
              "</table>\n",
              "</div>"
            ],
            "text/plain": [
              "                 age          job  marital  ...      previous poutcome      y\n",
              "count   49732.000000        49732    49732  ...  49732.000000    49732  49732\n",
              "unique           NaN           12        3  ...           NaN        4      2\n",
              "top              NaN  blue-collar  married  ...           NaN  unknown     no\n",
              "freq             NaN        10678    30011  ...           NaN    40664  43922\n",
              "mean       40.957472          NaN      NaN  ...      0.576892      NaN    NaN\n",
              "std        10.615008          NaN      NaN  ...      2.254838      NaN    NaN\n",
              "min        18.000000          NaN      NaN  ...      0.000000      NaN    NaN\n",
              "25%        33.000000          NaN      NaN  ...      0.000000      NaN    NaN\n",
              "50%        39.000000          NaN      NaN  ...      0.000000      NaN    NaN\n",
              "75%        48.000000          NaN      NaN  ...      0.000000      NaN    NaN\n",
              "max        95.000000          NaN      NaN  ...    275.000000      NaN    NaN\n",
              "\n",
              "[11 rows x 17 columns]"
            ]
          },
          "metadata": {},
          "execution_count": 6
        }
      ]
    },
    {
      "cell_type": "markdown",
      "metadata": {
        "id": "E7mVROTY3e9k"
      },
      "source": [
        "Se reemplaza el valor extremo identificado en el campo previuos."
      ]
    },
    {
      "cell_type": "code",
      "metadata": {
        "colab": {
          "base_uri": "https://localhost:8080/"
        },
        "id": "vysdbAe3Dd6q",
        "outputId": "d58e9c61-1797-430b-84b9-b107b4f8178b"
      },
      "source": [
        "#Reemplazar valor extremo del campo previous por la media\n",
        "df.loc[df['previous'] == 275, 'previous'] = df.loc[df['previous'] != 0, 'previous'].median()\n",
        "df['previous'].describe()"
      ],
      "execution_count": null,
      "outputs": [
        {
          "output_type": "execute_result",
          "data": {
            "text/plain": [
              "count    49732.000000\n",
              "mean         0.571403\n",
              "std          1.889443\n",
              "min          0.000000\n",
              "25%          0.000000\n",
              "50%          0.000000\n",
              "75%          0.000000\n",
              "max         58.000000\n",
              "Name: previous, dtype: float64"
            ]
          },
          "metadata": {},
          "execution_count": 7
        }
      ]
    },
    {
      "cell_type": "markdown",
      "metadata": {
        "id": "eS3HWx8i3k58"
      },
      "source": [
        "Validación de la valores de las variables categoricas, en esta se identifica de que a pesar de no existir valores nulos, existen variables que cuentan con datos desconocidos “unknown” para estos se procederá de la siguiente manera:\n",
        "*  Eliminar las filas con valor desconocido del campo “job”, ya que son pocas.\n",
        "*  Descartar columna de ‘poutcome’ ya que el X% de sus valores son desconocidos.\n",
        "*   Completar los registros desconocidos de los campos education y contact con la moda.\n",
        "\n",
        "\n",
        "\n",
        "\n",
        "\n",
        "\n",
        "\n",
        "\n"
      ]
    },
    {
      "cell_type": "code",
      "metadata": {
        "colab": {
          "base_uri": "https://localhost:8080/"
        },
        "id": "TtPCcsvYWuar",
        "outputId": "e2fb2ec4-ac0c-45e7-c89e-d400543dfb31"
      },
      "source": [
        "string_data = df.select_dtypes(include=\"object\")\n",
        "for column in string_data:\n",
        "    print(string_data[column].value_counts())\n",
        "    print (\"-\" * 20)"
      ],
      "execution_count": null,
      "outputs": [
        {
          "output_type": "stream",
          "text": [
            "blue-collar      10678\n",
            "management       10427\n",
            "technician        8365\n",
            "admin.            5649\n",
            "services          4571\n",
            "retired           2494\n",
            "self-employed     1762\n",
            "entrepreneur      1655\n",
            "unemployed        1431\n",
            "housemaid         1352\n",
            "student           1022\n",
            "unknown            326\n",
            "Name: job, dtype: int64\n",
            "--------------------\n",
            "married     30011\n",
            "single      13986\n",
            "divorced     5735\n",
            "Name: marital, dtype: int64\n",
            "--------------------\n",
            "secondary    25508\n",
            "tertiary     14651\n",
            "primary       7529\n",
            "unknown       2044\n",
            "Name: education, dtype: int64\n",
            "--------------------\n",
            "no     48841\n",
            "yes      891\n",
            "Name: default, dtype: int64\n",
            "--------------------\n",
            "yes    27689\n",
            "no     22043\n",
            "Name: housing, dtype: int64\n",
            "--------------------\n",
            "no     41797\n",
            "yes     7935\n",
            "Name: loan, dtype: int64\n",
            "--------------------\n",
            "cellular     32181\n",
            "unknown      14344\n",
            "telephone     3207\n",
            "Name: contact, dtype: int64\n",
            "--------------------\n",
            "may    15164\n",
            "jul     7601\n",
            "aug     6880\n",
            "jun     5872\n",
            "nov     4359\n",
            "apr     3225\n",
            "feb     2871\n",
            "jan     1551\n",
            "oct      818\n",
            "sep      631\n",
            "mar      526\n",
            "dec      234\n",
            "Name: month, dtype: int64\n",
            "--------------------\n",
            "unknown    40664\n",
            "failure     5391\n",
            "other       2037\n",
            "success     1640\n",
            "Name: poutcome, dtype: int64\n",
            "--------------------\n",
            "no     43922\n",
            "yes     5810\n",
            "Name: y, dtype: int64\n",
            "--------------------\n"
          ],
          "name": "stdout"
        }
      ]
    },
    {
      "cell_type": "code",
      "metadata": {
        "id": "oGRTQSXUXAlE"
      },
      "source": [
        "#Eliminar valores desconocidos del campo job\n",
        "df = df[df['job'] != 'unknown']\n",
        "\n",
        "#Excluir la columna 'poutcome'\n",
        "df.drop('poutcome', axis = 1, inplace = True)\n",
        "\n",
        "#Sustituir valores desconocidos de los campos educacion  y contacto\n",
        "df['education'].replace(\"unknown\", df['education'].mode()[0], inplace = True)\n",
        "df['contact'].replace(\"unknown\", df['contact'].mode()[0], inplace = True)"
      ],
      "execution_count": null,
      "outputs": []
    },
    {
      "cell_type": "code",
      "metadata": {
        "colab": {
          "base_uri": "https://localhost:8080/"
        },
        "id": "m4PtIzOVYWsC",
        "outputId": "309cbf32-3b04-4151-9e84-fccf697985e2"
      },
      "source": [
        "df.shape"
      ],
      "execution_count": null,
      "outputs": [
        {
          "output_type": "execute_result",
          "data": {
            "text/plain": [
              "(49406, 16)"
            ]
          },
          "metadata": {},
          "execution_count": 10
        }
      ]
    },
    {
      "cell_type": "code",
      "metadata": {
        "colab": {
          "base_uri": "https://localhost:8080/"
        },
        "id": "5U1sLGuIYb0P",
        "outputId": "b3e63cac-f0d7-4a10-8408-eeed23d5d21e"
      },
      "source": [
        "df.info()"
      ],
      "execution_count": null,
      "outputs": [
        {
          "output_type": "stream",
          "text": [
            "<class 'pandas.core.frame.DataFrame'>\n",
            "Int64Index: 49406 entries, 0 to 49731\n",
            "Data columns (total 16 columns):\n",
            " #   Column     Non-Null Count  Dtype \n",
            "---  ------     --------------  ----- \n",
            " 0   age        49406 non-null  int64 \n",
            " 1   job        49406 non-null  object\n",
            " 2   marital    49406 non-null  object\n",
            " 3   education  49406 non-null  object\n",
            " 4   default    49406 non-null  object\n",
            " 5   balance    49406 non-null  int64 \n",
            " 6   housing    49406 non-null  object\n",
            " 7   loan       49406 non-null  object\n",
            " 8   contact    49406 non-null  object\n",
            " 9   day        49406 non-null  int64 \n",
            " 10  month      49406 non-null  object\n",
            " 11  duration   49406 non-null  int64 \n",
            " 12  campaign   49406 non-null  int64 \n",
            " 13  pdays      49406 non-null  int64 \n",
            " 14  previous   49406 non-null  int64 \n",
            " 15  y          49406 non-null  object\n",
            "dtypes: int64(7), object(9)\n",
            "memory usage: 6.4+ MB\n"
          ],
          "name": "stdout"
        }
      ]
    },
    {
      "cell_type": "code",
      "metadata": {
        "colab": {
          "base_uri": "https://localhost:8080/",
          "height": 297
        },
        "id": "EhLFiTrrYnHM",
        "outputId": "62910ef9-2621-4b81-a74c-38d691e4523a"
      },
      "source": [
        "df.describe()"
      ],
      "execution_count": null,
      "outputs": [
        {
          "output_type": "execute_result",
          "data": {
            "text/html": [
              "<div>\n",
              "<style scoped>\n",
              "    .dataframe tbody tr th:only-of-type {\n",
              "        vertical-align: middle;\n",
              "    }\n",
              "\n",
              "    .dataframe tbody tr th {\n",
              "        vertical-align: top;\n",
              "    }\n",
              "\n",
              "    .dataframe thead th {\n",
              "        text-align: right;\n",
              "    }\n",
              "</style>\n",
              "<table border=\"1\" class=\"dataframe\">\n",
              "  <thead>\n",
              "    <tr style=\"text-align: right;\">\n",
              "      <th></th>\n",
              "      <th>age</th>\n",
              "      <th>balance</th>\n",
              "      <th>day</th>\n",
              "      <th>duration</th>\n",
              "      <th>campaign</th>\n",
              "      <th>pdays</th>\n",
              "      <th>previous</th>\n",
              "    </tr>\n",
              "  </thead>\n",
              "  <tbody>\n",
              "    <tr>\n",
              "      <th>count</th>\n",
              "      <td>49406.00000</td>\n",
              "      <td>49406.000000</td>\n",
              "      <td>49406.000000</td>\n",
              "      <td>49406.000000</td>\n",
              "      <td>49406.000000</td>\n",
              "      <td>49406.000000</td>\n",
              "      <td>49406.000000</td>\n",
              "    </tr>\n",
              "    <tr>\n",
              "      <th>mean</th>\n",
              "      <td>40.91329</td>\n",
              "      <td>1365.300045</td>\n",
              "      <td>15.823139</td>\n",
              "      <td>258.845181</td>\n",
              "      <td>2.763551</td>\n",
              "      <td>40.273428</td>\n",
              "      <td>0.572926</td>\n",
              "    </tr>\n",
              "    <tr>\n",
              "      <th>std</th>\n",
              "      <td>10.60040</td>\n",
              "      <td>3042.586820</td>\n",
              "      <td>8.312343</td>\n",
              "      <td>257.950317</td>\n",
              "      <td>3.095013</td>\n",
              "      <td>100.223004</td>\n",
              "      <td>1.893409</td>\n",
              "    </tr>\n",
              "    <tr>\n",
              "      <th>min</th>\n",
              "      <td>18.00000</td>\n",
              "      <td>-8019.000000</td>\n",
              "      <td>1.000000</td>\n",
              "      <td>0.000000</td>\n",
              "      <td>1.000000</td>\n",
              "      <td>-1.000000</td>\n",
              "      <td>0.000000</td>\n",
              "    </tr>\n",
              "    <tr>\n",
              "      <th>25%</th>\n",
              "      <td>33.00000</td>\n",
              "      <td>71.000000</td>\n",
              "      <td>8.000000</td>\n",
              "      <td>103.000000</td>\n",
              "      <td>1.000000</td>\n",
              "      <td>-1.000000</td>\n",
              "      <td>0.000000</td>\n",
              "    </tr>\n",
              "    <tr>\n",
              "      <th>50%</th>\n",
              "      <td>39.00000</td>\n",
              "      <td>447.000000</td>\n",
              "      <td>16.000000</td>\n",
              "      <td>181.000000</td>\n",
              "      <td>2.000000</td>\n",
              "      <td>-1.000000</td>\n",
              "      <td>0.000000</td>\n",
              "    </tr>\n",
              "    <tr>\n",
              "      <th>75%</th>\n",
              "      <td>48.00000</td>\n",
              "      <td>1425.000000</td>\n",
              "      <td>21.000000</td>\n",
              "      <td>320.000000</td>\n",
              "      <td>3.000000</td>\n",
              "      <td>-1.000000</td>\n",
              "      <td>0.000000</td>\n",
              "    </tr>\n",
              "    <tr>\n",
              "      <th>max</th>\n",
              "      <td>95.00000</td>\n",
              "      <td>102127.000000</td>\n",
              "      <td>31.000000</td>\n",
              "      <td>4918.000000</td>\n",
              "      <td>63.000000</td>\n",
              "      <td>871.000000</td>\n",
              "      <td>58.000000</td>\n",
              "    </tr>\n",
              "  </tbody>\n",
              "</table>\n",
              "</div>"
            ],
            "text/plain": [
              "               age        balance  ...         pdays      previous\n",
              "count  49406.00000   49406.000000  ...  49406.000000  49406.000000\n",
              "mean      40.91329    1365.300045  ...     40.273428      0.572926\n",
              "std       10.60040    3042.586820  ...    100.223004      1.893409\n",
              "min       18.00000   -8019.000000  ...     -1.000000      0.000000\n",
              "25%       33.00000      71.000000  ...     -1.000000      0.000000\n",
              "50%       39.00000     447.000000  ...     -1.000000      0.000000\n",
              "75%       48.00000    1425.000000  ...     -1.000000      0.000000\n",
              "max       95.00000  102127.000000  ...    871.000000     58.000000\n",
              "\n",
              "[8 rows x 7 columns]"
            ]
          },
          "metadata": {},
          "execution_count": 12
        }
      ]
    },
    {
      "cell_type": "markdown",
      "metadata": {
        "id": "CbmOba7vA-Lw"
      },
      "source": [
        "Se convierten las variables categóricas en númericas, usando el método get_dummies, obteniendo así un dataframe de 37 dimensiones."
      ]
    },
    {
      "cell_type": "code",
      "metadata": {
        "colab": {
          "base_uri": "https://localhost:8080/",
          "height": 241
        },
        "id": "1lqcvHCwAS5G",
        "outputId": "82474b08-5e53-4bb2-887e-c7cfcac395ea"
      },
      "source": [
        "df = pd.get_dummies(df,columns = ['job','marital','education','default','housing','month','loan','contact'], drop_first = True)\n",
        "df.head()"
      ],
      "execution_count": null,
      "outputs": [
        {
          "output_type": "execute_result",
          "data": {
            "text/html": [
              "<div>\n",
              "<style scoped>\n",
              "    .dataframe tbody tr th:only-of-type {\n",
              "        vertical-align: middle;\n",
              "    }\n",
              "\n",
              "    .dataframe tbody tr th {\n",
              "        vertical-align: top;\n",
              "    }\n",
              "\n",
              "    .dataframe thead th {\n",
              "        text-align: right;\n",
              "    }\n",
              "</style>\n",
              "<table border=\"1\" class=\"dataframe\">\n",
              "  <thead>\n",
              "    <tr style=\"text-align: right;\">\n",
              "      <th></th>\n",
              "      <th>age</th>\n",
              "      <th>balance</th>\n",
              "      <th>day</th>\n",
              "      <th>duration</th>\n",
              "      <th>campaign</th>\n",
              "      <th>pdays</th>\n",
              "      <th>previous</th>\n",
              "      <th>y</th>\n",
              "      <th>job_blue-collar</th>\n",
              "      <th>job_entrepreneur</th>\n",
              "      <th>job_housemaid</th>\n",
              "      <th>job_management</th>\n",
              "      <th>job_retired</th>\n",
              "      <th>job_self-employed</th>\n",
              "      <th>job_services</th>\n",
              "      <th>job_student</th>\n",
              "      <th>job_technician</th>\n",
              "      <th>job_unemployed</th>\n",
              "      <th>marital_married</th>\n",
              "      <th>marital_single</th>\n",
              "      <th>education_secondary</th>\n",
              "      <th>education_tertiary</th>\n",
              "      <th>default_yes</th>\n",
              "      <th>housing_yes</th>\n",
              "      <th>month_aug</th>\n",
              "      <th>month_dec</th>\n",
              "      <th>month_feb</th>\n",
              "      <th>month_jan</th>\n",
              "      <th>month_jul</th>\n",
              "      <th>month_jun</th>\n",
              "      <th>month_mar</th>\n",
              "      <th>month_may</th>\n",
              "      <th>month_nov</th>\n",
              "      <th>month_oct</th>\n",
              "      <th>month_sep</th>\n",
              "      <th>loan_yes</th>\n",
              "      <th>contact_telephone</th>\n",
              "    </tr>\n",
              "  </thead>\n",
              "  <tbody>\n",
              "    <tr>\n",
              "      <th>0</th>\n",
              "      <td>58</td>\n",
              "      <td>2143</td>\n",
              "      <td>5</td>\n",
              "      <td>261</td>\n",
              "      <td>1</td>\n",
              "      <td>-1</td>\n",
              "      <td>0</td>\n",
              "      <td>no</td>\n",
              "      <td>0</td>\n",
              "      <td>0</td>\n",
              "      <td>0</td>\n",
              "      <td>1</td>\n",
              "      <td>0</td>\n",
              "      <td>0</td>\n",
              "      <td>0</td>\n",
              "      <td>0</td>\n",
              "      <td>0</td>\n",
              "      <td>0</td>\n",
              "      <td>1</td>\n",
              "      <td>0</td>\n",
              "      <td>0</td>\n",
              "      <td>1</td>\n",
              "      <td>0</td>\n",
              "      <td>1</td>\n",
              "      <td>0</td>\n",
              "      <td>0</td>\n",
              "      <td>0</td>\n",
              "      <td>0</td>\n",
              "      <td>0</td>\n",
              "      <td>0</td>\n",
              "      <td>0</td>\n",
              "      <td>1</td>\n",
              "      <td>0</td>\n",
              "      <td>0</td>\n",
              "      <td>0</td>\n",
              "      <td>0</td>\n",
              "      <td>0</td>\n",
              "    </tr>\n",
              "    <tr>\n",
              "      <th>1</th>\n",
              "      <td>44</td>\n",
              "      <td>29</td>\n",
              "      <td>5</td>\n",
              "      <td>151</td>\n",
              "      <td>1</td>\n",
              "      <td>-1</td>\n",
              "      <td>0</td>\n",
              "      <td>no</td>\n",
              "      <td>0</td>\n",
              "      <td>0</td>\n",
              "      <td>0</td>\n",
              "      <td>0</td>\n",
              "      <td>0</td>\n",
              "      <td>0</td>\n",
              "      <td>0</td>\n",
              "      <td>0</td>\n",
              "      <td>1</td>\n",
              "      <td>0</td>\n",
              "      <td>0</td>\n",
              "      <td>1</td>\n",
              "      <td>1</td>\n",
              "      <td>0</td>\n",
              "      <td>0</td>\n",
              "      <td>1</td>\n",
              "      <td>0</td>\n",
              "      <td>0</td>\n",
              "      <td>0</td>\n",
              "      <td>0</td>\n",
              "      <td>0</td>\n",
              "      <td>0</td>\n",
              "      <td>0</td>\n",
              "      <td>1</td>\n",
              "      <td>0</td>\n",
              "      <td>0</td>\n",
              "      <td>0</td>\n",
              "      <td>0</td>\n",
              "      <td>0</td>\n",
              "    </tr>\n",
              "    <tr>\n",
              "      <th>2</th>\n",
              "      <td>33</td>\n",
              "      <td>2</td>\n",
              "      <td>5</td>\n",
              "      <td>76</td>\n",
              "      <td>1</td>\n",
              "      <td>-1</td>\n",
              "      <td>0</td>\n",
              "      <td>no</td>\n",
              "      <td>0</td>\n",
              "      <td>1</td>\n",
              "      <td>0</td>\n",
              "      <td>0</td>\n",
              "      <td>0</td>\n",
              "      <td>0</td>\n",
              "      <td>0</td>\n",
              "      <td>0</td>\n",
              "      <td>0</td>\n",
              "      <td>0</td>\n",
              "      <td>1</td>\n",
              "      <td>0</td>\n",
              "      <td>1</td>\n",
              "      <td>0</td>\n",
              "      <td>0</td>\n",
              "      <td>1</td>\n",
              "      <td>0</td>\n",
              "      <td>0</td>\n",
              "      <td>0</td>\n",
              "      <td>0</td>\n",
              "      <td>0</td>\n",
              "      <td>0</td>\n",
              "      <td>0</td>\n",
              "      <td>1</td>\n",
              "      <td>0</td>\n",
              "      <td>0</td>\n",
              "      <td>0</td>\n",
              "      <td>1</td>\n",
              "      <td>0</td>\n",
              "    </tr>\n",
              "    <tr>\n",
              "      <th>3</th>\n",
              "      <td>47</td>\n",
              "      <td>1506</td>\n",
              "      <td>5</td>\n",
              "      <td>92</td>\n",
              "      <td>1</td>\n",
              "      <td>-1</td>\n",
              "      <td>0</td>\n",
              "      <td>no</td>\n",
              "      <td>1</td>\n",
              "      <td>0</td>\n",
              "      <td>0</td>\n",
              "      <td>0</td>\n",
              "      <td>0</td>\n",
              "      <td>0</td>\n",
              "      <td>0</td>\n",
              "      <td>0</td>\n",
              "      <td>0</td>\n",
              "      <td>0</td>\n",
              "      <td>1</td>\n",
              "      <td>0</td>\n",
              "      <td>1</td>\n",
              "      <td>0</td>\n",
              "      <td>0</td>\n",
              "      <td>1</td>\n",
              "      <td>0</td>\n",
              "      <td>0</td>\n",
              "      <td>0</td>\n",
              "      <td>0</td>\n",
              "      <td>0</td>\n",
              "      <td>0</td>\n",
              "      <td>0</td>\n",
              "      <td>1</td>\n",
              "      <td>0</td>\n",
              "      <td>0</td>\n",
              "      <td>0</td>\n",
              "      <td>0</td>\n",
              "      <td>0</td>\n",
              "    </tr>\n",
              "    <tr>\n",
              "      <th>5</th>\n",
              "      <td>35</td>\n",
              "      <td>231</td>\n",
              "      <td>5</td>\n",
              "      <td>139</td>\n",
              "      <td>1</td>\n",
              "      <td>-1</td>\n",
              "      <td>0</td>\n",
              "      <td>no</td>\n",
              "      <td>0</td>\n",
              "      <td>0</td>\n",
              "      <td>0</td>\n",
              "      <td>1</td>\n",
              "      <td>0</td>\n",
              "      <td>0</td>\n",
              "      <td>0</td>\n",
              "      <td>0</td>\n",
              "      <td>0</td>\n",
              "      <td>0</td>\n",
              "      <td>1</td>\n",
              "      <td>0</td>\n",
              "      <td>0</td>\n",
              "      <td>1</td>\n",
              "      <td>0</td>\n",
              "      <td>1</td>\n",
              "      <td>0</td>\n",
              "      <td>0</td>\n",
              "      <td>0</td>\n",
              "      <td>0</td>\n",
              "      <td>0</td>\n",
              "      <td>0</td>\n",
              "      <td>0</td>\n",
              "      <td>1</td>\n",
              "      <td>0</td>\n",
              "      <td>0</td>\n",
              "      <td>0</td>\n",
              "      <td>0</td>\n",
              "      <td>0</td>\n",
              "    </tr>\n",
              "  </tbody>\n",
              "</table>\n",
              "</div>"
            ],
            "text/plain": [
              "   age  balance  day  ...  month_sep  loan_yes  contact_telephone\n",
              "0   58     2143    5  ...          0         0                  0\n",
              "1   44       29    5  ...          0         0                  0\n",
              "2   33        2    5  ...          0         1                  0\n",
              "3   47     1506    5  ...          0         0                  0\n",
              "5   35      231    5  ...          0         0                  0\n",
              "\n",
              "[5 rows x 37 columns]"
            ]
          },
          "metadata": {},
          "execution_count": 13
        }
      ]
    },
    {
      "cell_type": "code",
      "metadata": {
        "colab": {
          "base_uri": "https://localhost:8080/"
        },
        "id": "n8lNyyneAeSz",
        "outputId": "b5e537a5-f021-4cb0-a1d9-5d3910084d8b"
      },
      "source": [
        "df.shape"
      ],
      "execution_count": null,
      "outputs": [
        {
          "output_type": "execute_result",
          "data": {
            "text/plain": [
              "(49406, 37)"
            ]
          },
          "metadata": {},
          "execution_count": 14
        }
      ]
    },
    {
      "cell_type": "markdown",
      "metadata": {
        "id": "SCNHeEzYBMPs"
      },
      "source": [
        "Se convierte la variable objetivo de categórica a binaria."
      ]
    },
    {
      "cell_type": "code",
      "metadata": {
        "colab": {
          "base_uri": "https://localhost:8080/",
          "height": 241
        },
        "id": "eGEhqEPDAYEQ",
        "outputId": "67f354e6-aa04-44aa-c1c6-a0f832c4b825"
      },
      "source": [
        "df['y'].replace('yes', 1, inplace=True)\n",
        "df['y'].replace('no', 0, inplace=True)\n",
        "df.head()"
      ],
      "execution_count": null,
      "outputs": [
        {
          "output_type": "execute_result",
          "data": {
            "text/html": [
              "<div>\n",
              "<style scoped>\n",
              "    .dataframe tbody tr th:only-of-type {\n",
              "        vertical-align: middle;\n",
              "    }\n",
              "\n",
              "    .dataframe tbody tr th {\n",
              "        vertical-align: top;\n",
              "    }\n",
              "\n",
              "    .dataframe thead th {\n",
              "        text-align: right;\n",
              "    }\n",
              "</style>\n",
              "<table border=\"1\" class=\"dataframe\">\n",
              "  <thead>\n",
              "    <tr style=\"text-align: right;\">\n",
              "      <th></th>\n",
              "      <th>age</th>\n",
              "      <th>balance</th>\n",
              "      <th>day</th>\n",
              "      <th>duration</th>\n",
              "      <th>campaign</th>\n",
              "      <th>pdays</th>\n",
              "      <th>previous</th>\n",
              "      <th>y</th>\n",
              "      <th>job_blue-collar</th>\n",
              "      <th>job_entrepreneur</th>\n",
              "      <th>job_housemaid</th>\n",
              "      <th>job_management</th>\n",
              "      <th>job_retired</th>\n",
              "      <th>job_self-employed</th>\n",
              "      <th>job_services</th>\n",
              "      <th>job_student</th>\n",
              "      <th>job_technician</th>\n",
              "      <th>job_unemployed</th>\n",
              "      <th>marital_married</th>\n",
              "      <th>marital_single</th>\n",
              "      <th>education_secondary</th>\n",
              "      <th>education_tertiary</th>\n",
              "      <th>default_yes</th>\n",
              "      <th>housing_yes</th>\n",
              "      <th>month_aug</th>\n",
              "      <th>month_dec</th>\n",
              "      <th>month_feb</th>\n",
              "      <th>month_jan</th>\n",
              "      <th>month_jul</th>\n",
              "      <th>month_jun</th>\n",
              "      <th>month_mar</th>\n",
              "      <th>month_may</th>\n",
              "      <th>month_nov</th>\n",
              "      <th>month_oct</th>\n",
              "      <th>month_sep</th>\n",
              "      <th>loan_yes</th>\n",
              "      <th>contact_telephone</th>\n",
              "    </tr>\n",
              "  </thead>\n",
              "  <tbody>\n",
              "    <tr>\n",
              "      <th>0</th>\n",
              "      <td>58</td>\n",
              "      <td>2143</td>\n",
              "      <td>5</td>\n",
              "      <td>261</td>\n",
              "      <td>1</td>\n",
              "      <td>-1</td>\n",
              "      <td>0</td>\n",
              "      <td>0</td>\n",
              "      <td>0</td>\n",
              "      <td>0</td>\n",
              "      <td>0</td>\n",
              "      <td>1</td>\n",
              "      <td>0</td>\n",
              "      <td>0</td>\n",
              "      <td>0</td>\n",
              "      <td>0</td>\n",
              "      <td>0</td>\n",
              "      <td>0</td>\n",
              "      <td>1</td>\n",
              "      <td>0</td>\n",
              "      <td>0</td>\n",
              "      <td>1</td>\n",
              "      <td>0</td>\n",
              "      <td>1</td>\n",
              "      <td>0</td>\n",
              "      <td>0</td>\n",
              "      <td>0</td>\n",
              "      <td>0</td>\n",
              "      <td>0</td>\n",
              "      <td>0</td>\n",
              "      <td>0</td>\n",
              "      <td>1</td>\n",
              "      <td>0</td>\n",
              "      <td>0</td>\n",
              "      <td>0</td>\n",
              "      <td>0</td>\n",
              "      <td>0</td>\n",
              "    </tr>\n",
              "    <tr>\n",
              "      <th>1</th>\n",
              "      <td>44</td>\n",
              "      <td>29</td>\n",
              "      <td>5</td>\n",
              "      <td>151</td>\n",
              "      <td>1</td>\n",
              "      <td>-1</td>\n",
              "      <td>0</td>\n",
              "      <td>0</td>\n",
              "      <td>0</td>\n",
              "      <td>0</td>\n",
              "      <td>0</td>\n",
              "      <td>0</td>\n",
              "      <td>0</td>\n",
              "      <td>0</td>\n",
              "      <td>0</td>\n",
              "      <td>0</td>\n",
              "      <td>1</td>\n",
              "      <td>0</td>\n",
              "      <td>0</td>\n",
              "      <td>1</td>\n",
              "      <td>1</td>\n",
              "      <td>0</td>\n",
              "      <td>0</td>\n",
              "      <td>1</td>\n",
              "      <td>0</td>\n",
              "      <td>0</td>\n",
              "      <td>0</td>\n",
              "      <td>0</td>\n",
              "      <td>0</td>\n",
              "      <td>0</td>\n",
              "      <td>0</td>\n",
              "      <td>1</td>\n",
              "      <td>0</td>\n",
              "      <td>0</td>\n",
              "      <td>0</td>\n",
              "      <td>0</td>\n",
              "      <td>0</td>\n",
              "    </tr>\n",
              "    <tr>\n",
              "      <th>2</th>\n",
              "      <td>33</td>\n",
              "      <td>2</td>\n",
              "      <td>5</td>\n",
              "      <td>76</td>\n",
              "      <td>1</td>\n",
              "      <td>-1</td>\n",
              "      <td>0</td>\n",
              "      <td>0</td>\n",
              "      <td>0</td>\n",
              "      <td>1</td>\n",
              "      <td>0</td>\n",
              "      <td>0</td>\n",
              "      <td>0</td>\n",
              "      <td>0</td>\n",
              "      <td>0</td>\n",
              "      <td>0</td>\n",
              "      <td>0</td>\n",
              "      <td>0</td>\n",
              "      <td>1</td>\n",
              "      <td>0</td>\n",
              "      <td>1</td>\n",
              "      <td>0</td>\n",
              "      <td>0</td>\n",
              "      <td>1</td>\n",
              "      <td>0</td>\n",
              "      <td>0</td>\n",
              "      <td>0</td>\n",
              "      <td>0</td>\n",
              "      <td>0</td>\n",
              "      <td>0</td>\n",
              "      <td>0</td>\n",
              "      <td>1</td>\n",
              "      <td>0</td>\n",
              "      <td>0</td>\n",
              "      <td>0</td>\n",
              "      <td>1</td>\n",
              "      <td>0</td>\n",
              "    </tr>\n",
              "    <tr>\n",
              "      <th>3</th>\n",
              "      <td>47</td>\n",
              "      <td>1506</td>\n",
              "      <td>5</td>\n",
              "      <td>92</td>\n",
              "      <td>1</td>\n",
              "      <td>-1</td>\n",
              "      <td>0</td>\n",
              "      <td>0</td>\n",
              "      <td>1</td>\n",
              "      <td>0</td>\n",
              "      <td>0</td>\n",
              "      <td>0</td>\n",
              "      <td>0</td>\n",
              "      <td>0</td>\n",
              "      <td>0</td>\n",
              "      <td>0</td>\n",
              "      <td>0</td>\n",
              "      <td>0</td>\n",
              "      <td>1</td>\n",
              "      <td>0</td>\n",
              "      <td>1</td>\n",
              "      <td>0</td>\n",
              "      <td>0</td>\n",
              "      <td>1</td>\n",
              "      <td>0</td>\n",
              "      <td>0</td>\n",
              "      <td>0</td>\n",
              "      <td>0</td>\n",
              "      <td>0</td>\n",
              "      <td>0</td>\n",
              "      <td>0</td>\n",
              "      <td>1</td>\n",
              "      <td>0</td>\n",
              "      <td>0</td>\n",
              "      <td>0</td>\n",
              "      <td>0</td>\n",
              "      <td>0</td>\n",
              "    </tr>\n",
              "    <tr>\n",
              "      <th>5</th>\n",
              "      <td>35</td>\n",
              "      <td>231</td>\n",
              "      <td>5</td>\n",
              "      <td>139</td>\n",
              "      <td>1</td>\n",
              "      <td>-1</td>\n",
              "      <td>0</td>\n",
              "      <td>0</td>\n",
              "      <td>0</td>\n",
              "      <td>0</td>\n",
              "      <td>0</td>\n",
              "      <td>1</td>\n",
              "      <td>0</td>\n",
              "      <td>0</td>\n",
              "      <td>0</td>\n",
              "      <td>0</td>\n",
              "      <td>0</td>\n",
              "      <td>0</td>\n",
              "      <td>1</td>\n",
              "      <td>0</td>\n",
              "      <td>0</td>\n",
              "      <td>1</td>\n",
              "      <td>0</td>\n",
              "      <td>1</td>\n",
              "      <td>0</td>\n",
              "      <td>0</td>\n",
              "      <td>0</td>\n",
              "      <td>0</td>\n",
              "      <td>0</td>\n",
              "      <td>0</td>\n",
              "      <td>0</td>\n",
              "      <td>1</td>\n",
              "      <td>0</td>\n",
              "      <td>0</td>\n",
              "      <td>0</td>\n",
              "      <td>0</td>\n",
              "      <td>0</td>\n",
              "    </tr>\n",
              "  </tbody>\n",
              "</table>\n",
              "</div>"
            ],
            "text/plain": [
              "   age  balance  day  ...  month_sep  loan_yes  contact_telephone\n",
              "0   58     2143    5  ...          0         0                  0\n",
              "1   44       29    5  ...          0         0                  0\n",
              "2   33        2    5  ...          0         1                  0\n",
              "3   47     1506    5  ...          0         0                  0\n",
              "5   35      231    5  ...          0         0                  0\n",
              "\n",
              "[5 rows x 37 columns]"
            ]
          },
          "metadata": {},
          "execution_count": 15
        }
      ]
    },
    {
      "cell_type": "markdown",
      "metadata": {
        "id": "iUXb5iey5CS1"
      },
      "source": [
        "Se realiza depuración de datos atípicos. "
      ]
    },
    {
      "cell_type": "code",
      "metadata": {
        "id": "5rD2UWgbJflR"
      },
      "source": [
        "def remove_outlier(df_in, col_name):\n",
        "    q1 = df_in[col_name].quantile(0.25)\n",
        "    q3 = df_in[col_name].quantile(0.75)\n",
        "    iqr = q3-q1 #Interquartile range\n",
        "    fence_low  = q1-1.5*iqr\n",
        "    fence_high = q3+1.5*iqr\n",
        "    df_out = df_in.loc[(df_in[col_name] > fence_low) & (df_in[col_name] < fence_high)]\n",
        "    return df_out\n",
        "  \n",
        "df = remove_outlier(df, 'balance')\n",
        "df = remove_outlier(df, 'duration')\n",
        "df = remove_outlier(df, 'campaign')"
      ],
      "execution_count": null,
      "outputs": []
    },
    {
      "cell_type": "code",
      "metadata": {
        "colab": {
          "base_uri": "https://localhost:8080/"
        },
        "id": "LMzFmErqMAbs",
        "outputId": "c6aa634a-0906-4a78-fd13-2e188a5c8df7"
      },
      "source": [
        "df.shape"
      ],
      "execution_count": null,
      "outputs": [
        {
          "output_type": "execute_result",
          "data": {
            "text/plain": [
              "(36997, 37)"
            ]
          },
          "metadata": {},
          "execution_count": 17
        }
      ]
    },
    {
      "cell_type": "code",
      "metadata": {
        "colab": {
          "base_uri": "https://localhost:8080/",
          "height": 273
        },
        "id": "xljwoItPAu02",
        "outputId": "62c0c37e-a2ad-4abb-f0bb-9180d02d08b3"
      },
      "source": [
        "# Define X and y\n",
        "\n",
        "X = df.drop('y', axis=1)\n",
        "y = df.y\n",
        "\n",
        "# Visualize class distribution\n",
        "\n",
        "y.value_counts().plot(kind='bar')\n",
        "plt.xticks([0,1], ['No', 'Yes'])\n",
        "plt.ylabel('Count');"
      ],
      "execution_count": null,
      "outputs": [
        {
          "output_type": "display_data",
          "data": {
            "image/png": "[encoded data removed]",
            "text/plain": [
              "<Figure size 432x288 with 1 Axes>"
            ]
          },
          "metadata": {
            "needs_background": "light"
          }
        }
      ]
    },
    {
      "cell_type": "markdown",
      "metadata": {
        "id": "rXmBbt6PBnuI"
      },
      "source": [
        "Se divide el dataset en train y test."
      ]
    },
    {
      "cell_type": "code",
      "metadata": {
        "id": "Ii2iNS9uZb89"
      },
      "source": [
        "# Train-test-split\n",
        "X_train, X_test, y_train, y_test = train_test_split(X, y,\n",
        "                                                    test_size=0.2,\n",
        "                                                    random_state=42)"
      ],
      "execution_count": null,
      "outputs": []
    },
    {
      "cell_type": "markdown",
      "metadata": {
        "id": "Pka-aTjzB0fD"
      },
      "source": [
        "Estandarización de los datos, usando el método de MinMaxScaler, cómo medida necesaria para aplicación del algoritmo KNN y el análisis PCA, esto porque son métodos basados en distancia y sus resultados se pueden ver afectados por las distintas dimensiones de los datos."
      ]
    },
    {
      "cell_type": "code",
      "metadata": {
        "id": "JyIKQAzGD4wP",
        "colab": {
          "base_uri": "https://localhost:8080/",
          "height": 241
        },
        "outputId": "c6d6ba33-d6fd-4dc0-9502-e18b9a1053df"
      },
      "source": [
        "#Estandarizar x_train\n",
        "\n",
        "columns = X.columns\n",
        "scaler = MinMaxScaler()\n",
        "X_train = scaler.fit_transform(X_train)\n",
        "X_train = pd.DataFrame(X_train,columns=[columns])\n",
        "X_train.head()"
      ],
      "execution_count": null,
      "outputs": [
        {
          "output_type": "execute_result",
          "data": {
            "text/html": [
              "<div>\n",
              "<style scoped>\n",
              "    .dataframe tbody tr th:only-of-type {\n",
              "        vertical-align: middle;\n",
              "    }\n",
              "\n",
              "    .dataframe tbody tr th {\n",
              "        vertical-align: top;\n",
              "    }\n",
              "\n",
              "    .dataframe thead tr th {\n",
              "        text-align: left;\n",
              "    }\n",
              "</style>\n",
              "<table border=\"1\" class=\"dataframe\">\n",
              "  <thead>\n",
              "    <tr>\n",
              "      <th></th>\n",
              "      <th>age</th>\n",
              "      <th>balance</th>\n",
              "      <th>day</th>\n",
              "      <th>duration</th>\n",
              "      <th>campaign</th>\n",
              "      <th>pdays</th>\n",
              "      <th>previous</th>\n",
              "      <th>job_blue-collar</th>\n",
              "      <th>job_entrepreneur</th>\n",
              "      <th>job_housemaid</th>\n",
              "      <th>job_management</th>\n",
              "      <th>job_retired</th>\n",
              "      <th>job_self-employed</th>\n",
              "      <th>job_services</th>\n",
              "      <th>job_student</th>\n",
              "      <th>job_technician</th>\n",
              "      <th>job_unemployed</th>\n",
              "      <th>marital_married</th>\n",
              "      <th>marital_single</th>\n",
              "      <th>education_secondary</th>\n",
              "      <th>education_tertiary</th>\n",
              "      <th>default_yes</th>\n",
              "      <th>housing_yes</th>\n",
              "      <th>month_aug</th>\n",
              "      <th>month_dec</th>\n",
              "      <th>month_feb</th>\n",
              "      <th>month_jan</th>\n",
              "      <th>month_jul</th>\n",
              "      <th>month_jun</th>\n",
              "      <th>month_mar</th>\n",
              "      <th>month_may</th>\n",
              "      <th>month_nov</th>\n",
              "      <th>month_oct</th>\n",
              "      <th>month_sep</th>\n",
              "      <th>loan_yes</th>\n",
              "      <th>contact_telephone</th>\n",
              "    </tr>\n",
              "  </thead>\n",
              "  <tbody>\n",
              "    <tr>\n",
              "      <th>0</th>\n",
              "      <td>0.818182</td>\n",
              "      <td>0.360067</td>\n",
              "      <td>0.466667</td>\n",
              "      <td>0.268750</td>\n",
              "      <td>0.00</td>\n",
              "      <td>0.000000</td>\n",
              "      <td>0.000000</td>\n",
              "      <td>0.0</td>\n",
              "      <td>0.0</td>\n",
              "      <td>0.0</td>\n",
              "      <td>0.0</td>\n",
              "      <td>1.0</td>\n",
              "      <td>0.0</td>\n",
              "      <td>0.0</td>\n",
              "      <td>0.0</td>\n",
              "      <td>0.0</td>\n",
              "      <td>0.0</td>\n",
              "      <td>0.0</td>\n",
              "      <td>0.0</td>\n",
              "      <td>0.0</td>\n",
              "      <td>0.0</td>\n",
              "      <td>0.0</td>\n",
              "      <td>0.0</td>\n",
              "      <td>0.0</td>\n",
              "      <td>0.0</td>\n",
              "      <td>0.0</td>\n",
              "      <td>0.0</td>\n",
              "      <td>0.0</td>\n",
              "      <td>0.0</td>\n",
              "      <td>0.0</td>\n",
              "      <td>0.0</td>\n",
              "      <td>0.0</td>\n",
              "      <td>1.0</td>\n",
              "      <td>0.0</td>\n",
              "      <td>0.0</td>\n",
              "      <td>1.0</td>\n",
              "    </tr>\n",
              "    <tr>\n",
              "      <th>1</th>\n",
              "      <td>0.246753</td>\n",
              "      <td>0.328579</td>\n",
              "      <td>0.900000</td>\n",
              "      <td>0.060938</td>\n",
              "      <td>0.00</td>\n",
              "      <td>0.000000</td>\n",
              "      <td>0.000000</td>\n",
              "      <td>0.0</td>\n",
              "      <td>1.0</td>\n",
              "      <td>0.0</td>\n",
              "      <td>0.0</td>\n",
              "      <td>0.0</td>\n",
              "      <td>0.0</td>\n",
              "      <td>0.0</td>\n",
              "      <td>0.0</td>\n",
              "      <td>0.0</td>\n",
              "      <td>0.0</td>\n",
              "      <td>1.0</td>\n",
              "      <td>0.0</td>\n",
              "      <td>1.0</td>\n",
              "      <td>0.0</td>\n",
              "      <td>0.0</td>\n",
              "      <td>1.0</td>\n",
              "      <td>0.0</td>\n",
              "      <td>0.0</td>\n",
              "      <td>0.0</td>\n",
              "      <td>0.0</td>\n",
              "      <td>0.0</td>\n",
              "      <td>0.0</td>\n",
              "      <td>0.0</td>\n",
              "      <td>1.0</td>\n",
              "      <td>0.0</td>\n",
              "      <td>0.0</td>\n",
              "      <td>0.0</td>\n",
              "      <td>0.0</td>\n",
              "      <td>0.0</td>\n",
              "    </tr>\n",
              "    <tr>\n",
              "      <th>2</th>\n",
              "      <td>0.051948</td>\n",
              "      <td>0.480459</td>\n",
              "      <td>0.366667</td>\n",
              "      <td>0.282813</td>\n",
              "      <td>0.75</td>\n",
              "      <td>0.000000</td>\n",
              "      <td>0.000000</td>\n",
              "      <td>0.0</td>\n",
              "      <td>0.0</td>\n",
              "      <td>1.0</td>\n",
              "      <td>0.0</td>\n",
              "      <td>0.0</td>\n",
              "      <td>0.0</td>\n",
              "      <td>0.0</td>\n",
              "      <td>0.0</td>\n",
              "      <td>0.0</td>\n",
              "      <td>0.0</td>\n",
              "      <td>0.0</td>\n",
              "      <td>1.0</td>\n",
              "      <td>1.0</td>\n",
              "      <td>0.0</td>\n",
              "      <td>0.0</td>\n",
              "      <td>1.0</td>\n",
              "      <td>0.0</td>\n",
              "      <td>0.0</td>\n",
              "      <td>0.0</td>\n",
              "      <td>0.0</td>\n",
              "      <td>0.0</td>\n",
              "      <td>0.0</td>\n",
              "      <td>0.0</td>\n",
              "      <td>1.0</td>\n",
              "      <td>0.0</td>\n",
              "      <td>0.0</td>\n",
              "      <td>0.0</td>\n",
              "      <td>0.0</td>\n",
              "      <td>0.0</td>\n",
              "    </tr>\n",
              "    <tr>\n",
              "      <th>3</th>\n",
              "      <td>0.519481</td>\n",
              "      <td>0.600667</td>\n",
              "      <td>0.600000</td>\n",
              "      <td>0.200000</td>\n",
              "      <td>0.25</td>\n",
              "      <td>0.269495</td>\n",
              "      <td>0.034483</td>\n",
              "      <td>1.0</td>\n",
              "      <td>0.0</td>\n",
              "      <td>0.0</td>\n",
              "      <td>0.0</td>\n",
              "      <td>0.0</td>\n",
              "      <td>0.0</td>\n",
              "      <td>0.0</td>\n",
              "      <td>0.0</td>\n",
              "      <td>0.0</td>\n",
              "      <td>0.0</td>\n",
              "      <td>0.0</td>\n",
              "      <td>0.0</td>\n",
              "      <td>0.0</td>\n",
              "      <td>0.0</td>\n",
              "      <td>0.0</td>\n",
              "      <td>0.0</td>\n",
              "      <td>0.0</td>\n",
              "      <td>0.0</td>\n",
              "      <td>0.0</td>\n",
              "      <td>0.0</td>\n",
              "      <td>1.0</td>\n",
              "      <td>0.0</td>\n",
              "      <td>0.0</td>\n",
              "      <td>0.0</td>\n",
              "      <td>0.0</td>\n",
              "      <td>0.0</td>\n",
              "      <td>0.0</td>\n",
              "      <td>0.0</td>\n",
              "      <td>0.0</td>\n",
              "    </tr>\n",
              "    <tr>\n",
              "      <th>4</th>\n",
              "      <td>0.246753</td>\n",
              "      <td>0.524356</td>\n",
              "      <td>0.433333</td>\n",
              "      <td>0.864063</td>\n",
              "      <td>0.25</td>\n",
              "      <td>0.000000</td>\n",
              "      <td>0.000000</td>\n",
              "      <td>0.0</td>\n",
              "      <td>0.0</td>\n",
              "      <td>0.0</td>\n",
              "      <td>0.0</td>\n",
              "      <td>0.0</td>\n",
              "      <td>0.0</td>\n",
              "      <td>1.0</td>\n",
              "      <td>0.0</td>\n",
              "      <td>0.0</td>\n",
              "      <td>0.0</td>\n",
              "      <td>0.0</td>\n",
              "      <td>1.0</td>\n",
              "      <td>1.0</td>\n",
              "      <td>0.0</td>\n",
              "      <td>0.0</td>\n",
              "      <td>0.0</td>\n",
              "      <td>0.0</td>\n",
              "      <td>0.0</td>\n",
              "      <td>0.0</td>\n",
              "      <td>0.0</td>\n",
              "      <td>0.0</td>\n",
              "      <td>0.0</td>\n",
              "      <td>0.0</td>\n",
              "      <td>1.0</td>\n",
              "      <td>0.0</td>\n",
              "      <td>0.0</td>\n",
              "      <td>0.0</td>\n",
              "      <td>0.0</td>\n",
              "      <td>0.0</td>\n",
              "    </tr>\n",
              "  </tbody>\n",
              "</table>\n",
              "</div>"
            ],
            "text/plain": [
              "        age   balance       day  ... month_sep loan_yes contact_telephone\n",
              "0  0.818182  0.360067  0.466667  ...       0.0      0.0               1.0\n",
              "1  0.246753  0.328579  0.900000  ...       0.0      0.0               0.0\n",
              "2  0.051948  0.480459  0.366667  ...       0.0      0.0               0.0\n",
              "3  0.519481  0.600667  0.600000  ...       0.0      0.0               0.0\n",
              "4  0.246753  0.524356  0.433333  ...       0.0      0.0               0.0\n",
              "\n",
              "[5 rows x 36 columns]"
            ]
          },
          "metadata": {},
          "execution_count": 20
        }
      ]
    },
    {
      "cell_type": "code",
      "metadata": {
        "colab": {
          "base_uri": "https://localhost:8080/",
          "height": 241
        },
        "id": "e-Z2m6DwaGOT",
        "outputId": "7a3be880-22a9-44f4-bf2c-491516843295"
      },
      "source": [
        "#Estandarizar x_test\n",
        "\n",
        "columns = X.columns\n",
        "scaler = MinMaxScaler()\n",
        "X_test = scaler.fit_transform(X_test)\n",
        "X_test = pd.DataFrame(X_test,columns=[columns])\n",
        "X_test.head()"
      ],
      "execution_count": null,
      "outputs": [
        {
          "output_type": "execute_result",
          "data": {
            "text/html": [
              "<div>\n",
              "<style scoped>\n",
              "    .dataframe tbody tr th:only-of-type {\n",
              "        vertical-align: middle;\n",
              "    }\n",
              "\n",
              "    .dataframe tbody tr th {\n",
              "        vertical-align: top;\n",
              "    }\n",
              "\n",
              "    .dataframe thead tr th {\n",
              "        text-align: left;\n",
              "    }\n",
              "</style>\n",
              "<table border=\"1\" class=\"dataframe\">\n",
              "  <thead>\n",
              "    <tr>\n",
              "      <th></th>\n",
              "      <th>age</th>\n",
              "      <th>balance</th>\n",
              "      <th>day</th>\n",
              "      <th>duration</th>\n",
              "      <th>campaign</th>\n",
              "      <th>pdays</th>\n",
              "      <th>previous</th>\n",
              "      <th>job_blue-collar</th>\n",
              "      <th>job_entrepreneur</th>\n",
              "      <th>job_housemaid</th>\n",
              "      <th>job_management</th>\n",
              "      <th>job_retired</th>\n",
              "      <th>job_self-employed</th>\n",
              "      <th>job_services</th>\n",
              "      <th>job_student</th>\n",
              "      <th>job_technician</th>\n",
              "      <th>job_unemployed</th>\n",
              "      <th>marital_married</th>\n",
              "      <th>marital_single</th>\n",
              "      <th>education_secondary</th>\n",
              "      <th>education_tertiary</th>\n",
              "      <th>default_yes</th>\n",
              "      <th>housing_yes</th>\n",
              "      <th>month_aug</th>\n",
              "      <th>month_dec</th>\n",
              "      <th>month_feb</th>\n",
              "      <th>month_jan</th>\n",
              "      <th>month_jul</th>\n",
              "      <th>month_jun</th>\n",
              "      <th>month_mar</th>\n",
              "      <th>month_may</th>\n",
              "      <th>month_nov</th>\n",
              "      <th>month_oct</th>\n",
              "      <th>month_sep</th>\n",
              "      <th>loan_yes</th>\n",
              "      <th>contact_telephone</th>\n",
              "    </tr>\n",
              "  </thead>\n",
              "  <tbody>\n",
              "    <tr>\n",
              "      <th>0</th>\n",
              "      <td>0.222222</td>\n",
              "      <td>0.352875</td>\n",
              "      <td>0.233333</td>\n",
              "      <td>0.334898</td>\n",
              "      <td>0.25</td>\n",
              "      <td>0.0</td>\n",
              "      <td>0.0</td>\n",
              "      <td>0.0</td>\n",
              "      <td>0.0</td>\n",
              "      <td>0.0</td>\n",
              "      <td>1.0</td>\n",
              "      <td>0.0</td>\n",
              "      <td>0.0</td>\n",
              "      <td>0.0</td>\n",
              "      <td>0.0</td>\n",
              "      <td>0.0</td>\n",
              "      <td>0.0</td>\n",
              "      <td>1.0</td>\n",
              "      <td>0.0</td>\n",
              "      <td>0.0</td>\n",
              "      <td>1.0</td>\n",
              "      <td>0.0</td>\n",
              "      <td>1.0</td>\n",
              "      <td>0.0</td>\n",
              "      <td>0.0</td>\n",
              "      <td>0.0</td>\n",
              "      <td>0.0</td>\n",
              "      <td>0.0</td>\n",
              "      <td>0.0</td>\n",
              "      <td>0.0</td>\n",
              "      <td>1.0</td>\n",
              "      <td>0.0</td>\n",
              "      <td>0.0</td>\n",
              "      <td>0.0</td>\n",
              "      <td>0.0</td>\n",
              "      <td>0.0</td>\n",
              "    </tr>\n",
              "    <tr>\n",
              "      <th>1</th>\n",
              "      <td>0.236111</td>\n",
              "      <td>0.343323</td>\n",
              "      <td>0.033333</td>\n",
              "      <td>0.209703</td>\n",
              "      <td>0.25</td>\n",
              "      <td>0.0</td>\n",
              "      <td>0.0</td>\n",
              "      <td>0.0</td>\n",
              "      <td>0.0</td>\n",
              "      <td>0.0</td>\n",
              "      <td>0.0</td>\n",
              "      <td>0.0</td>\n",
              "      <td>0.0</td>\n",
              "      <td>0.0</td>\n",
              "      <td>0.0</td>\n",
              "      <td>1.0</td>\n",
              "      <td>0.0</td>\n",
              "      <td>0.0</td>\n",
              "      <td>1.0</td>\n",
              "      <td>1.0</td>\n",
              "      <td>0.0</td>\n",
              "      <td>0.0</td>\n",
              "      <td>0.0</td>\n",
              "      <td>0.0</td>\n",
              "      <td>0.0</td>\n",
              "      <td>0.0</td>\n",
              "      <td>0.0</td>\n",
              "      <td>1.0</td>\n",
              "      <td>0.0</td>\n",
              "      <td>0.0</td>\n",
              "      <td>0.0</td>\n",
              "      <td>0.0</td>\n",
              "      <td>0.0</td>\n",
              "      <td>0.0</td>\n",
              "      <td>0.0</td>\n",
              "      <td>0.0</td>\n",
              "    </tr>\n",
              "    <tr>\n",
              "      <th>2</th>\n",
              "      <td>0.388889</td>\n",
              "      <td>0.895861</td>\n",
              "      <td>0.166667</td>\n",
              "      <td>0.062598</td>\n",
              "      <td>0.00</td>\n",
              "      <td>0.0</td>\n",
              "      <td>0.0</td>\n",
              "      <td>0.0</td>\n",
              "      <td>0.0</td>\n",
              "      <td>0.0</td>\n",
              "      <td>0.0</td>\n",
              "      <td>0.0</td>\n",
              "      <td>1.0</td>\n",
              "      <td>0.0</td>\n",
              "      <td>0.0</td>\n",
              "      <td>0.0</td>\n",
              "      <td>0.0</td>\n",
              "      <td>0.0</td>\n",
              "      <td>1.0</td>\n",
              "      <td>1.0</td>\n",
              "      <td>0.0</td>\n",
              "      <td>0.0</td>\n",
              "      <td>0.0</td>\n",
              "      <td>0.0</td>\n",
              "      <td>0.0</td>\n",
              "      <td>0.0</td>\n",
              "      <td>0.0</td>\n",
              "      <td>0.0</td>\n",
              "      <td>1.0</td>\n",
              "      <td>0.0</td>\n",
              "      <td>0.0</td>\n",
              "      <td>0.0</td>\n",
              "      <td>0.0</td>\n",
              "      <td>0.0</td>\n",
              "      <td>0.0</td>\n",
              "      <td>0.0</td>\n",
              "    </tr>\n",
              "    <tr>\n",
              "      <th>3</th>\n",
              "      <td>0.388889</td>\n",
              "      <td>0.823750</td>\n",
              "      <td>0.633333</td>\n",
              "      <td>0.106416</td>\n",
              "      <td>0.25</td>\n",
              "      <td>0.0</td>\n",
              "      <td>0.0</td>\n",
              "      <td>0.0</td>\n",
              "      <td>1.0</td>\n",
              "      <td>0.0</td>\n",
              "      <td>0.0</td>\n",
              "      <td>0.0</td>\n",
              "      <td>0.0</td>\n",
              "      <td>0.0</td>\n",
              "      <td>0.0</td>\n",
              "      <td>0.0</td>\n",
              "      <td>0.0</td>\n",
              "      <td>0.0</td>\n",
              "      <td>0.0</td>\n",
              "      <td>1.0</td>\n",
              "      <td>0.0</td>\n",
              "      <td>0.0</td>\n",
              "      <td>1.0</td>\n",
              "      <td>0.0</td>\n",
              "      <td>0.0</td>\n",
              "      <td>0.0</td>\n",
              "      <td>0.0</td>\n",
              "      <td>0.0</td>\n",
              "      <td>0.0</td>\n",
              "      <td>0.0</td>\n",
              "      <td>0.0</td>\n",
              "      <td>1.0</td>\n",
              "      <td>0.0</td>\n",
              "      <td>0.0</td>\n",
              "      <td>0.0</td>\n",
              "      <td>0.0</td>\n",
              "    </tr>\n",
              "    <tr>\n",
              "      <th>4</th>\n",
              "      <td>0.180556</td>\n",
              "      <td>0.273647</td>\n",
              "      <td>0.866667</td>\n",
              "      <td>0.211268</td>\n",
              "      <td>0.25</td>\n",
              "      <td>0.0</td>\n",
              "      <td>0.0</td>\n",
              "      <td>1.0</td>\n",
              "      <td>0.0</td>\n",
              "      <td>0.0</td>\n",
              "      <td>0.0</td>\n",
              "      <td>0.0</td>\n",
              "      <td>0.0</td>\n",
              "      <td>0.0</td>\n",
              "      <td>0.0</td>\n",
              "      <td>0.0</td>\n",
              "      <td>0.0</td>\n",
              "      <td>1.0</td>\n",
              "      <td>0.0</td>\n",
              "      <td>0.0</td>\n",
              "      <td>0.0</td>\n",
              "      <td>0.0</td>\n",
              "      <td>1.0</td>\n",
              "      <td>0.0</td>\n",
              "      <td>0.0</td>\n",
              "      <td>0.0</td>\n",
              "      <td>0.0</td>\n",
              "      <td>0.0</td>\n",
              "      <td>1.0</td>\n",
              "      <td>0.0</td>\n",
              "      <td>0.0</td>\n",
              "      <td>0.0</td>\n",
              "      <td>0.0</td>\n",
              "      <td>0.0</td>\n",
              "      <td>1.0</td>\n",
              "      <td>0.0</td>\n",
              "    </tr>\n",
              "  </tbody>\n",
              "</table>\n",
              "</div>"
            ],
            "text/plain": [
              "        age   balance       day  ... month_sep loan_yes contact_telephone\n",
              "0  0.222222  0.352875  0.233333  ...       0.0      0.0               0.0\n",
              "1  0.236111  0.343323  0.033333  ...       0.0      0.0               0.0\n",
              "2  0.388889  0.895861  0.166667  ...       0.0      0.0               0.0\n",
              "3  0.388889  0.823750  0.633333  ...       0.0      0.0               0.0\n",
              "4  0.180556  0.273647  0.866667  ...       0.0      1.0               0.0\n",
              "\n",
              "[5 rows x 36 columns]"
            ]
          },
          "metadata": {},
          "execution_count": 21
        }
      ]
    },
    {
      "cell_type": "markdown",
      "metadata": {
        "id": "YybB5D6_SbwZ"
      },
      "source": [
        "**Entrenamiento con datos originales**"
      ]
    },
    {
      "cell_type": "markdown",
      "metadata": {
        "id": "hIefDWS_A8rc"
      },
      "source": [
        "Los métodos usados en este problema de clasificación son los siguientes:\n",
        "\n",
        "\n",
        "1. KNN\n",
        "2. Decision Tree\n",
        "3. Random Forest\n",
        "4. XG Boost\n",
        "5. Grandient Boosting\n",
        "\n",
        "Se harán los diferentes ajustes metodologícos necesarios para cada uno y posteriormente, una vez identificado el que mejor se ajuste a nuestro problema, la afinación de hiperparámetros para dicho método.\n",
        "\n",
        "\n"
      ]
    },
    {
      "cell_type": "markdown",
      "metadata": {
        "id": "7DFL6Mo0B0K8"
      },
      "source": [
        "*KNN*"
      ]
    },
    {
      "cell_type": "code",
      "metadata": {
        "id": "vFoXsN24U4nW"
      },
      "source": [
        "#KNN con los datos originales"
      ],
      "execution_count": null,
      "outputs": []
    },
    {
      "cell_type": "code",
      "metadata": {
        "colab": {
          "base_uri": "https://localhost:8080/",
          "height": 745
        },
        "id": "Lp2ms8tHU9at",
        "outputId": "81312634-33e5-49f8-f2ae-42dd4f0ffb27"
      },
      "source": [
        "# Fit k-NN classifier and make predictions\n",
        "knn = KNeighborsClassifier()\n",
        "knn.fit(X_train, y_train)\n",
        "y_pred_train = knn.predict(X_train)\n",
        "y_pred_test = knn.predict(X_test)\n",
        "    \n",
        "plot_confusion_matrix(knn, X_test, y_test, display_labels=['No',\n",
        "                                                          'Yes'],\n",
        "                     normalize='true', cmap='Blues');\n",
        "\n",
        "print(f'Train f1 Score: {f1_score(y_train, y_pred_train)}')\n",
        "print(f'Test f1 Score: {f1_score(y_test, y_pred_test)}')\n",
        "print(classification_report(y_test, y_pred_test))\n",
        "\n",
        "\n",
        "#curva roc\n",
        "plot_roc_curve(knn, X_test, y_test, name = 'KNN datos originales')"
      ],
      "execution_count": null,
      "outputs": [
        {
          "output_type": "stream",
          "text": [
            "Train f1 Score: 0.4799999999999999\n",
            "Test f1 Score: 0.26182618261826185\n",
            "              precision    recall  f1-score   support\n",
            "\n",
            "           0       0.92      0.98      0.95      6742\n",
            "           1       0.47      0.18      0.26       658\n",
            "\n",
            "    accuracy                           0.91      7400\n",
            "   macro avg       0.70      0.58      0.61      7400\n",
            "weighted avg       0.88      0.91      0.89      7400\n",
            "\n"
          ],
          "name": "stdout"
        },
        {
          "output_type": "execute_result",
          "data": {
            "text/plain": [
              "<sklearn.metrics._plot.roc_curve.RocCurveDisplay at 0x7f8c7b77ca50>"
            ]
          },
          "metadata": {},
          "execution_count": 23
        },
        {
          "output_type": "display_data",
          "data": {
            "image/png": "[encoded data removed]",
            "text/plain": [
              "<Figure size 432x288 with 2 Axes>"
            ]
          },
          "metadata": {
            "needs_background": "light"
          }
        },
        {
          "output_type": "display_data",
          "data": {
            "image/png": "[encoded data removed]",
            "text/plain": [
              "<Figure size 432x288 with 1 Axes>"
            ]
          },
          "metadata": {
            "needs_background": "light"
          }
        }
      ]
    },
    {
      "cell_type": "markdown",
      "metadata": {
        "id": "OVw7nRfdJp2P"
      },
      "source": [
        "*Decision Tree*"
      ]
    },
    {
      "cell_type": "code",
      "metadata": {
        "colab": {
          "base_uri": "https://localhost:8080/",
          "height": 745
        },
        "id": "MA4JJ5hHVZun",
        "outputId": "1919a8d0-ec86-4a34-cb2b-a1fbe0f7b531"
      },
      "source": [
        "#DecisionTree con Datos Originales\n",
        "\n",
        "# Fit DecisionTree classifier and make predictions\n",
        "arbol = DecisionTreeClassifier()\n",
        "arbol.fit(X_train, y_train)\n",
        "y_pred_train = arbol.predict(X_train)\n",
        "y_pred_test = arbol.predict(X_test)\n",
        "\n",
        "plot_confusion_matrix(arbol, X_test, y_test, display_labels=['No',\n",
        "                                                          'Yes'],\n",
        "                     normalize='true', cmap='Blues')\n",
        "    \n",
        "print(f'Train f1 Score: {f1_score(y_train, y_pred_train)}')\n",
        "print(f'Test f1 Score: {f1_score(y_test, y_pred_test)}')\n",
        "print(classification_report(y_test, y_pred_test))\n",
        "\n",
        "#curva roc\n",
        "plot_roc_curve(arbol, X_test, y_test, name = 'Arbol datos originales')"
      ],
      "execution_count": null,
      "outputs": [
        {
          "output_type": "stream",
          "text": [
            "Train f1 Score: 1.0\n",
            "Test f1 Score: 0.4131777625257378\n",
            "              precision    recall  f1-score   support\n",
            "\n",
            "           0       0.95      0.93      0.94      6742\n",
            "           1       0.38      0.46      0.41       658\n",
            "\n",
            "    accuracy                           0.88      7400\n",
            "   macro avg       0.66      0.69      0.67      7400\n",
            "weighted avg       0.90      0.88      0.89      7400\n",
            "\n"
          ],
          "name": "stdout"
        },
        {
          "output_type": "execute_result",
          "data": {
            "text/plain": [
              "<sklearn.metrics._plot.roc_curve.RocCurveDisplay at 0x7f8c7b1a0850>"
            ]
          },
          "metadata": {},
          "execution_count": 24
        },
        {
          "output_type": "display_data",
          "data": {
            "image/png": "[encoded data removed]",
            "text/plain": [
              "<Figure size 432x288 with 2 Axes>"
            ]
          },
          "metadata": {
            "needs_background": "light"
          }
        },
        {
          "output_type": "display_data",
          "data": {
            "image/png": "[encoded data removed]",
            "text/plain": [
              "<Figure size 432x288 with 1 Axes>"
            ]
          },
          "metadata": {
            "needs_background": "light"
          }
        }
      ]
    },
    {
      "cell_type": "markdown",
      "metadata": {
        "id": "97GUKbTVKr1O"
      },
      "source": [
        "*Random Forest*"
      ]
    },
    {
      "cell_type": "code",
      "metadata": {
        "colab": {
          "base_uri": "https://localhost:8080/",
          "height": 745
        },
        "id": "51XIawXCN59T",
        "outputId": "d83caecc-4e20-49b6-a74e-ba3cd60b8df5"
      },
      "source": [
        "#RandomForest con Datos Originales\n",
        "\n",
        "# Creación del modelo\n",
        "# ==============================================================================\n",
        "arbol_aleatorio = RandomForestClassifier(\n",
        "            n_estimators = 10,\n",
        "            max_depth    = None,\n",
        "            max_features = 'auto',\n",
        "            oob_score    = False,\n",
        "            n_jobs       = -1,\n",
        "            random_state = 123\n",
        "         )\n",
        "\n",
        "# Entrenamiento del modelo\n",
        "# ==============================================================================\n",
        "arbol_aleatorio.fit(X_train, y_train)\n",
        "\n",
        "y_pred_train = arbol_aleatorio.predict(X_train)\n",
        "y_pred_test = arbol_aleatorio.predict(X_test)\n",
        "\n",
        "plot_confusion_matrix(arbol_aleatorio, X_test, y_test, display_labels=['No',\n",
        "                                                          'Yes'],\n",
        "                     normalize='true', cmap='Blues');\n",
        "\n",
        "print(f'Train f1 Score: {f1_score(y_train, y_pred_train)}')\n",
        "print(f'Test f1 Score: {f1_score(y_test, y_pred_test)}')\n",
        "print(classification_report(y_test, y_pred_test))\n",
        "\n",
        "#curva roc\n",
        "plot_roc_curve(arbol_aleatorio, X_test, y_test, name = 'Arbol aleatorio datos originales')"
      ],
      "execution_count": null,
      "outputs": [
        {
          "output_type": "stream",
          "text": [
            "Train f1 Score: 0.9606267577340297\n",
            "Test f1 Score: 0.4260599793174767\n",
            "              precision    recall  f1-score   support\n",
            "\n",
            "           0       0.94      0.98      0.96      6742\n",
            "           1       0.67      0.31      0.43       658\n",
            "\n",
            "    accuracy                           0.93      7400\n",
            "   macro avg       0.80      0.65      0.69      7400\n",
            "weighted avg       0.91      0.93      0.91      7400\n",
            "\n"
          ],
          "name": "stdout"
        },
        {
          "output_type": "execute_result",
          "data": {
            "text/plain": [
              "<sklearn.metrics._plot.roc_curve.RocCurveDisplay at 0x7f8c7a92d690>"
            ]
          },
          "metadata": {},
          "execution_count": 25
        },
        {
          "output_type": "display_data",
          "data": {
            "image/png": "[encoded data removed]",
            "text/plain": [
              "<Figure size 432x288 with 2 Axes>"
            ]
          },
          "metadata": {
            "needs_background": "light"
          }
        },
        {
          "output_type": "display_data",
          "data": {
            "image/png": "[encoded data removed]",
            "text/plain": [
              "<Figure size 432x288 with 1 Axes>"
            ]
          },
          "metadata": {
            "needs_background": "light"
          }
        }
      ]
    },
    {
      "cell_type": "markdown",
      "metadata": {
        "id": "Jn49K95Qoc-8"
      },
      "source": [
        "*XG Boost*"
      ]
    },
    {
      "cell_type": "code",
      "metadata": {
        "colab": {
          "base_uri": "https://localhost:8080/",
          "height": 745
        },
        "id": "YbhqxgCQofnq",
        "outputId": "52d43a33-2f78-47b0-e366-3c5c43fed000"
      },
      "source": [
        "from xgboost import XGBClassifier\n",
        "\n",
        "xgb = XGBClassifier()\n",
        "xgb.fit(X_train, y_train)\n",
        "y_pred_train = xgb.predict(X_train)\n",
        "y_pred_test = xgb.predict(X_test)\n",
        "    \n",
        "plot_confusion_matrix(xgb, X_test, y_test, display_labels=['No',\n",
        "                                                          'Yes'],\n",
        "                     normalize='true', cmap='Blues');\n",
        "\n",
        "print(f'Train f1 Score: {f1_score(y_train, y_pred_train)}')\n",
        "print(f'Test f1 Score: {f1_score(y_test, y_pred_test)}')\n",
        "print(classification_report(y_test, y_pred_test))\n",
        "\n",
        "\n",
        "#curva roc\n",
        "plot_roc_curve(xgb, X_test, y_test, name = 'XGB datos originales')"
      ],
      "execution_count": null,
      "outputs": [
        {
          "output_type": "stream",
          "text": [
            "Train f1 Score: 0.4046179219351292\n",
            "Test f1 Score: 0.37108953613807977\n",
            "              precision    recall  f1-score   support\n",
            "\n",
            "           0       0.93      0.99      0.96      6742\n",
            "           1       0.64      0.26      0.37       658\n",
            "\n",
            "    accuracy                           0.92      7400\n",
            "   macro avg       0.79      0.62      0.66      7400\n",
            "weighted avg       0.91      0.92      0.91      7400\n",
            "\n"
          ],
          "name": "stdout"
        },
        {
          "output_type": "execute_result",
          "data": {
            "text/plain": [
              "<sklearn.metrics._plot.roc_curve.RocCurveDisplay at 0x7f8c7b1f3d90>"
            ]
          },
          "metadata": {},
          "execution_count": 26
        },
        {
          "output_type": "display_data",
          "data": {
            "image/png": "[encoded data removed]",
            "text/plain": [
              "<Figure size 432x288 with 2 Axes>"
            ]
          },
          "metadata": {
            "needs_background": "light"
          }
        },
        {
          "output_type": "display_data",
          "data": {
            "image/png": "[encoded data removed]",
            "text/plain": [
              "<Figure size 432x288 with 1 Axes>"
            ]
          },
          "metadata": {
            "needs_background": "light"
          }
        }
      ]
    },
    {
      "cell_type": "markdown",
      "metadata": {
        "id": "ZRx-IYw4Ahst"
      },
      "source": [
        "Gradient Boosting"
      ]
    },
    {
      "cell_type": "code",
      "metadata": {
        "colab": {
          "base_uri": "https://localhost:8080/",
          "height": 728
        },
        "id": "vm3p3HlgAL-1",
        "outputId": "baf784ef-1886-4fc0-cbb0-8da4ec13a256"
      },
      "source": [
        "gb_clf = GradientBoostingClassifier()\n",
        "gb_clf.fit(X_train, y_train)\n",
        "\n",
        "y_pred_train = gb_clf.predict(X_train)\n",
        "y_pred_test = gb_clf.predict(X_test)\n",
        "    \n",
        "plot_confusion_matrix(gb_clf, X_test, y_test, display_labels=['No',\n",
        "                                                          'Yes'],\n",
        "                     normalize='true', cmap='Blues');\n",
        "\n",
        "#curva roc\n",
        "plot_roc_curve(gb_clf, X_test, y_test, name = 'Gradient Boosting con datos originales')\n",
        "\n",
        "print(f'Train f1 Score: {f1_score(y_train, y_pred_train)}')\n",
        "print(f'Test f1 Score: {f1_score(y_test, y_pred_test)}')\n",
        "print(classification_report(y_test, y_pred_test))"
      ],
      "execution_count": null,
      "outputs": [
        {
          "output_type": "stream",
          "text": [
            "Train f1 Score: 0.44367877020938246\n",
            "Test f1 Score: 0.39103869653767814\n",
            "              precision    recall  f1-score   support\n",
            "\n",
            "           0       0.93      0.98      0.96      6742\n",
            "           1       0.59      0.29      0.39       658\n",
            "\n",
            "    accuracy                           0.92      7400\n",
            "   macro avg       0.76      0.64      0.67      7400\n",
            "weighted avg       0.90      0.92      0.91      7400\n",
            "\n"
          ],
          "name": "stdout"
        },
        {
          "output_type": "display_data",
          "data": {
            "image/png": "[encoded data removed]",
            "text/plain": [
              "<Figure size 432x288 with 2 Axes>"
            ]
          },
          "metadata": {
            "needs_background": "light"
          }
        },
        {
          "output_type": "display_data",
          "data": {
            "image/png": "[encoded data removed]",
            "text/plain": [
              "<Figure size 432x288 with 1 Axes>"
            ]
          },
          "metadata": {
            "needs_background": "light"
          }
        }
      ]
    },
    {
      "cell_type": "markdown",
      "metadata": {
        "id": "-XW_lA065P46"
      },
      "source": [
        "Se obtiene buen accuracy en el entrenamiento de los datos originales, sin embargo esta métrica es engañosa ya que los datos están desbanlanceados. Por tanto se seguirá evaluando el desempeño de los modelos a partir de las métricas f-1 score y el AUC score."
      ]
    },
    {
      "cell_type": "code",
      "metadata": {
        "colab": {
          "base_uri": "https://localhost:8080/",
          "height": 204
        },
        "id": "6t4RpxY5hGZz",
        "outputId": "5101e6a3-e439-4b0b-89b8-15db0eef3464"
      },
      "source": [
        "metricas_do = pd.DataFrame()\n",
        "\n",
        "modelos = ['KNN DO', 'Decision Tree DO', 'Random Forest DO', 'XG Boost DO', 'Gradient Boosting DO']\n",
        "accuracy_do = [0.91, 0.88, 0.93, 0.92, 0.92]\n",
        "precision_do = [0.47, 0.37, 0.67, 0.64, 0.59]\n",
        "recall_do = [0.18, 0.44, 0.31, 0.26, 0.29]\n",
        "f1_train = [0.47, 1, 0.96, 0.40, 0.44]\n",
        "f1_test = [0.26, 0.40, 0.42, 0.37, 0.39]\n",
        "AUC = [0.78, 0.69, 0.87, 0.90, 0.90]\n",
        "metricas_do['modelo'] = modelos\n",
        "metricas_do['Accuracy'] = accuracy_do\n",
        "metricas_do['Precision'] = precision_do\n",
        "metricas_do['Recall'] = recall_do\n",
        "metricas_do['Valor Train f1 Score'] = f1_train\n",
        "metricas_do['Valor Test f1 Score'] = f1_test\n",
        "metricas_do['Curva ROC AUC'] = AUC\n",
        "metricas_do.index = np.arange(1, len(metricas_do)+1)\n",
        "metricas_do.sort_values(by=['Valor Train f1 Score', 'Valor Test f1 Score'], ascending=False)\n",
        "#metricas_do['índice'] = metricas_do.index"
      ],
      "execution_count": null,
      "outputs": [
        {
          "output_type": "execute_result",
          "data": {
            "text/html": [
              "<div>\n",
              "<style scoped>\n",
              "    .dataframe tbody tr th:only-of-type {\n",
              "        vertical-align: middle;\n",
              "    }\n",
              "\n",
              "    .dataframe tbody tr th {\n",
              "        vertical-align: top;\n",
              "    }\n",
              "\n",
              "    .dataframe thead th {\n",
              "        text-align: right;\n",
              "    }\n",
              "</style>\n",
              "<table border=\"1\" class=\"dataframe\">\n",
              "  <thead>\n",
              "    <tr style=\"text-align: right;\">\n",
              "      <th></th>\n",
              "      <th>modelo</th>\n",
              "      <th>Accuracy</th>\n",
              "      <th>Precision</th>\n",
              "      <th>Recall</th>\n",
              "      <th>Valor Train f1 Score</th>\n",
              "      <th>Valor Test f1 Score</th>\n",
              "      <th>Curva ROC AUC</th>\n",
              "    </tr>\n",
              "  </thead>\n",
              "  <tbody>\n",
              "    <tr>\n",
              "      <th>2</th>\n",
              "      <td>Decision Tree DO</td>\n",
              "      <td>0.88</td>\n",
              "      <td>0.37</td>\n",
              "      <td>0.44</td>\n",
              "      <td>1.00</td>\n",
              "      <td>0.40</td>\n",
              "      <td>0.69</td>\n",
              "    </tr>\n",
              "    <tr>\n",
              "      <th>3</th>\n",
              "      <td>Random Forest DO</td>\n",
              "      <td>0.93</td>\n",
              "      <td>0.67</td>\n",
              "      <td>0.31</td>\n",
              "      <td>0.96</td>\n",
              "      <td>0.42</td>\n",
              "      <td>0.87</td>\n",
              "    </tr>\n",
              "    <tr>\n",
              "      <th>1</th>\n",
              "      <td>KNN DO</td>\n",
              "      <td>0.91</td>\n",
              "      <td>0.47</td>\n",
              "      <td>0.18</td>\n",
              "      <td>0.47</td>\n",
              "      <td>0.26</td>\n",
              "      <td>0.78</td>\n",
              "    </tr>\n",
              "    <tr>\n",
              "      <th>5</th>\n",
              "      <td>Gradient Boosting DO</td>\n",
              "      <td>0.92</td>\n",
              "      <td>0.59</td>\n",
              "      <td>0.29</td>\n",
              "      <td>0.44</td>\n",
              "      <td>0.39</td>\n",
              "      <td>0.90</td>\n",
              "    </tr>\n",
              "    <tr>\n",
              "      <th>4</th>\n",
              "      <td>XG Boost DO</td>\n",
              "      <td>0.92</td>\n",
              "      <td>0.64</td>\n",
              "      <td>0.26</td>\n",
              "      <td>0.40</td>\n",
              "      <td>0.37</td>\n",
              "      <td>0.90</td>\n",
              "    </tr>\n",
              "  </tbody>\n",
              "</table>\n",
              "</div>"
            ],
            "text/plain": [
              "                 modelo  Accuracy  ...  Valor Test f1 Score  Curva ROC AUC\n",
              "2      Decision Tree DO      0.88  ...                 0.40           0.69\n",
              "3      Random Forest DO      0.93  ...                 0.42           0.87\n",
              "1                KNN DO      0.91  ...                 0.26           0.78\n",
              "5  Gradient Boosting DO      0.92  ...                 0.39           0.90\n",
              "4           XG Boost DO      0.92  ...                 0.37           0.90\n",
              "\n",
              "[5 rows x 7 columns]"
            ]
          },
          "metadata": {},
          "execution_count": 28
        }
      ]
    },
    {
      "cell_type": "markdown",
      "metadata": {
        "id": "q68541rPWtob"
      },
      "source": [
        "**Aplicar balanceo de datos y entrenar con datos balanceados**\n",
        "\n",
        "Dado el desbalanceo en los datos, el 95% de las datos son de clientes que dijeron NO al CDT, la clase minoritaria no logra ser correctamente identificada.Por esto se aplicará un método de balanceo sobre los datos y se entrenará nuevamente el modelo.\n",
        "Para decidir qué método de balanceo usar, se aplicarán los siguientes métodos sobre el random forest y el que obtenga el mejor resultado se replicará a los demás.\n",
        "\n",
        "\n",
        "1.  Smote\n",
        "2.  Random Oversampling\n",
        "3. Random Undersampling\n",
        "4. Adasyn\n",
        "\n",
        "\n",
        "\n",
        "\n",
        "\n",
        "\n"
      ]
    },
    {
      "cell_type": "markdown",
      "metadata": {
        "id": "mDPy_qQbSd6I"
      },
      "source": [
        "*SMOTE*"
      ]
    },
    {
      "cell_type": "code",
      "metadata": {
        "colab": {
          "base_uri": "https://localhost:8080/"
        },
        "id": "euqVtRcaW1tM",
        "outputId": "9f500e18-50b3-4081-ed21-a74fc62ca047"
      },
      "source": [
        "#Applying SMOTE on the trainingg data\n",
        "\n",
        "from imblearn.over_sampling import SMOTE\n",
        "\n",
        "sm = SMOTE(random_state = 12)\n",
        "X_train_sm, y_train_sm = sm.fit_sample(X_train,y_train)"
      ],
      "execution_count": null,
      "outputs": [
        {
          "output_type": "stream",
          "text": [
            "/usr/local/lib/python3.7/dist-packages/sklearn/externals/six.py:31: FutureWarning: The module is deprecated in version 0.21 and will be removed in version 0.23 since we've dropped support for Python 2.7. Please rely on the official version of six (https://pypi.org/project/six/).\n",
            "  \"(https://pypi.org/project/six/).\", FutureWarning)\n",
            "/usr/local/lib/python3.7/dist-packages/sklearn/utils/deprecation.py:144: FutureWarning: The sklearn.neighbors.base module is  deprecated in version 0.22 and will be removed in version 0.24. The corresponding classes / functions should instead be imported from sklearn.neighbors. Anything that cannot be imported from sklearn.neighbors is now part of the private API.\n",
            "  warnings.warn(message, FutureWarning)\n",
            "/usr/local/lib/python3.7/dist-packages/sklearn/utils/deprecation.py:87: FutureWarning: Function safe_indexing is deprecated; safe_indexing is deprecated in version 0.22 and will be removed in version 0.24.\n",
            "  warnings.warn(msg, category=FutureWarning)\n"
          ],
          "name": "stderr"
        }
      ]
    },
    {
      "cell_type": "code",
      "metadata": {
        "colab": {
          "base_uri": "https://localhost:8080/"
        },
        "id": "SxbTt4pTX-BM",
        "outputId": "43742faa-f890-4d31-c3f3-db8cb00107ad"
      },
      "source": [
        "#Checking for imbalances in the training data\n",
        "y_sm = np.bincount(y_train_sm)\n",
        "i = np.nonzero(y_sm)[0]\n",
        "np.vstack((i,y_sm[i])).T"
      ],
      "execution_count": null,
      "outputs": [
        {
          "output_type": "execute_result",
          "data": {
            "text/plain": [
              "array([[    0, 27018],\n",
              "       [    1, 27018]])"
            ]
          },
          "metadata": {},
          "execution_count": 30
        }
      ]
    },
    {
      "cell_type": "markdown",
      "metadata": {
        "id": "0IB5XKgVdWDg"
      },
      "source": [
        "ENTRENAMIENTO RANDOM FOREST + SMOTE"
      ]
    },
    {
      "cell_type": "code",
      "metadata": {
        "colab": {
          "base_uri": "https://localhost:8080/",
          "height": 745
        },
        "id": "-VcqV9G1SY64",
        "outputId": "8b10f537-aaeb-455d-ae77-aa5c69647e58"
      },
      "source": [
        "# RandomForest + Balanceo de datos\n",
        "# ==============================================================================\n",
        "arbol_aleatorio_balanceo = RandomForestClassifier(\n",
        "            n_estimators = 10,\n",
        "            max_depth    = None,\n",
        "            max_features = 'auto',\n",
        "            oob_score    = False,\n",
        "            n_jobs       = -1,\n",
        "            random_state = 123\n",
        "         )\n",
        "\n",
        "# Random Forest\n",
        "# ==============================================================================\n",
        "arbol_aleatorio_balanceo.fit(X_train_sm, y_train_sm)\n",
        "\n",
        "y_pred_train = arbol_aleatorio_balanceo.predict(X_train_sm)\n",
        "y_pred_test = arbol_aleatorio_balanceo.predict(X_test)\n",
        "\n",
        "plot_confusion_matrix(arbol_aleatorio_balanceo, X_test, y_test, display_labels=['No',\n",
        "                                                          'Yes'],\n",
        "                     normalize='true', cmap='Blues');\n",
        "\n",
        "print(f'Train f1 Score: {f1_score(y_train_sm, y_pred_train)}')\n",
        "print(f'Test f1 Score: {f1_score(y_test, y_pred_test)}')\n",
        "print(classification_report(y_test, y_pred_test))\n",
        "\n",
        "#curva roc\n",
        "plot_roc_curve(arbol_aleatorio_balanceo, X_test, y_test, name = 'Random Forest balanceado')"
      ],
      "execution_count": null,
      "outputs": [
        {
          "output_type": "stream",
          "text": [
            "Train f1 Score: 0.9983703703703705\n",
            "Test f1 Score: 0.54292343387471\n",
            "              precision    recall  f1-score   support\n",
            "\n",
            "           0       0.95      0.96      0.96      6742\n",
            "           1       0.55      0.53      0.54       658\n",
            "\n",
            "    accuracy                           0.92      7400\n",
            "   macro avg       0.75      0.75      0.75      7400\n",
            "weighted avg       0.92      0.92      0.92      7400\n",
            "\n"
          ],
          "name": "stdout"
        },
        {
          "output_type": "execute_result",
          "data": {
            "text/plain": [
              "<sklearn.metrics._plot.roc_curve.RocCurveDisplay at 0x7f8c7a3813d0>"
            ]
          },
          "metadata": {},
          "execution_count": 31
        },
        {
          "output_type": "display_data",
          "data": {
            "image/png": "[encoded data removed]",
            "text/plain": [
              "<Figure size 432x288 with 2 Axes>"
            ]
          },
          "metadata": {
            "needs_background": "light"
          }
        },
        {
          "output_type": "display_data",
          "data": {
            "image/png": "[encoded data removed]",
            "text/plain": [
              "<Figure size 432x288 with 1 Axes>"
            ]
          },
          "metadata": {
            "needs_background": "light"
          }
        }
      ]
    },
    {
      "cell_type": "markdown",
      "metadata": {
        "id": "wdUoi3owTHq2"
      },
      "source": [
        "*RANDOM OVERSAMPLING*"
      ]
    },
    {
      "cell_type": "code",
      "metadata": {
        "colab": {
          "base_uri": "https://localhost:8080/"
        },
        "id": "j1aeo5Q4TtXo",
        "outputId": "aa01d3d7-8b75-4fa9-9988-97dc5647bbb1"
      },
      "source": [
        "from imblearn.over_sampling import RandomOverSampler\n",
        "\n",
        "over = RandomOverSampler()\n",
        "X_train_sm, y_train_sm = over.fit_sample(X_train,y_train)"
      ],
      "execution_count": null,
      "outputs": [
        {
          "output_type": "stream",
          "text": [
            "/usr/local/lib/python3.7/dist-packages/sklearn/utils/deprecation.py:87: FutureWarning: Function safe_indexing is deprecated; safe_indexing is deprecated in version 0.22 and will be removed in version 0.24.\n",
            "  warnings.warn(msg, category=FutureWarning)\n"
          ],
          "name": "stderr"
        }
      ]
    },
    {
      "cell_type": "code",
      "metadata": {
        "colab": {
          "base_uri": "https://localhost:8080/"
        },
        "id": "OFjawR0eUV4v",
        "outputId": "abc03184-1d77-435a-91b2-ee9acb59a4ae"
      },
      "source": [
        "#Checking for imbalances in the training data\n",
        "y_sm = np.bincount(y_train_sm)\n",
        "i = np.nonzero(y_sm)[0]\n",
        "np.vstack((i,y_sm[i])).T"
      ],
      "execution_count": null,
      "outputs": [
        {
          "output_type": "execute_result",
          "data": {
            "text/plain": [
              "array([[    0, 27018],\n",
              "       [    1, 27018]])"
            ]
          },
          "metadata": {},
          "execution_count": 33
        }
      ]
    },
    {
      "cell_type": "markdown",
      "metadata": {
        "id": "_IVaW6_VdmJY"
      },
      "source": [
        "ENTRENAMIENTO RANDOM FOREST + RANDOM OVERSAMPLING"
      ]
    },
    {
      "cell_type": "code",
      "metadata": {
        "colab": {
          "base_uri": "https://localhost:8080/",
          "height": 745
        },
        "id": "mNVQXiQHUbOR",
        "outputId": "4eddab5d-5f1f-4564-fddb-032bc90e7bf9"
      },
      "source": [
        "# Random Forest\n",
        "# ==============================================================================\n",
        "arbol_aleatorio_balanceo.fit(X_train_sm, y_train_sm)\n",
        "\n",
        "y_pred_train = arbol_aleatorio_balanceo.predict(X_train_sm)\n",
        "y_pred_test = arbol_aleatorio_balanceo.predict(X_test)\n",
        "\n",
        "plot_confusion_matrix(arbol_aleatorio_balanceo, X_test, y_test, display_labels=['No',\n",
        "                                                          'Yes'],\n",
        "                     normalize='true', cmap='Blues');\n",
        "\n",
        "print(f'Train f1 Score: {f1_score(y_train_sm, y_pred_train)}')\n",
        "print(f'Test f1 Score: {f1_score(y_test, y_pred_test)}')\n",
        "print(classification_report(y_test, y_pred_test))\n",
        "\n",
        "#curva roc\n",
        "plot_roc_curve(arbol_aleatorio_balanceo, X_test, y_test, name = 'Random Forest balanceado')"
      ],
      "execution_count": null,
      "outputs": [
        {
          "output_type": "stream",
          "text": [
            "Train f1 Score: 0.9996854938671303\n",
            "Test f1 Score: 0.485473289597001\n",
            "              precision    recall  f1-score   support\n",
            "\n",
            "           0       0.94      0.98      0.96      6742\n",
            "           1       0.63      0.39      0.49       658\n",
            "\n",
            "    accuracy                           0.93      7400\n",
            "   macro avg       0.79      0.69      0.72      7400\n",
            "weighted avg       0.92      0.93      0.92      7400\n",
            "\n"
          ],
          "name": "stdout"
        },
        {
          "output_type": "execute_result",
          "data": {
            "text/plain": [
              "<sklearn.metrics._plot.roc_curve.RocCurveDisplay at 0x7f8c7a1f4d90>"
            ]
          },
          "metadata": {},
          "execution_count": 34
        },
        {
          "output_type": "display_data",
          "data": {
            "image/png": "[encoded data removed]",
            "text/plain": [
              "<Figure size 432x288 with 2 Axes>"
            ]
          },
          "metadata": {
            "needs_background": "light"
          }
        },
        {
          "output_type": "display_data",
          "data": {
            "image/png": "[encoded data removed]",
            "text/plain": [
              "<Figure size 432x288 with 1 Axes>"
            ]
          },
          "metadata": {
            "needs_background": "light"
          }
        }
      ]
    },
    {
      "cell_type": "markdown",
      "metadata": {
        "id": "0jC_In_SUp9o"
      },
      "source": [
        "*RANDOM UNDERSAMPLING*"
      ]
    },
    {
      "cell_type": "code",
      "metadata": {
        "colab": {
          "base_uri": "https://localhost:8080/"
        },
        "id": "hu38O7VcU8mB",
        "outputId": "a4b32998-b6cc-4e1b-d98e-e05bb9285da4"
      },
      "source": [
        "from imblearn.under_sampling import RandomUnderSampler\n",
        "\n",
        "under = RandomUnderSampler()\n",
        "X_train_sm, y_train_sm = under.fit_sample(X_train,y_train)"
      ],
      "execution_count": null,
      "outputs": [
        {
          "output_type": "stream",
          "text": [
            "/usr/local/lib/python3.7/dist-packages/sklearn/utils/deprecation.py:87: FutureWarning: Function safe_indexing is deprecated; safe_indexing is deprecated in version 0.22 and will be removed in version 0.24.\n",
            "  warnings.warn(msg, category=FutureWarning)\n"
          ],
          "name": "stderr"
        }
      ]
    },
    {
      "cell_type": "code",
      "metadata": {
        "colab": {
          "base_uri": "https://localhost:8080/"
        },
        "id": "w0URs5RgU-k8",
        "outputId": "07639ff8-498a-438c-fe9a-b41e30d7fa6d"
      },
      "source": [
        "#Checking for imbalances in the training data\n",
        "y_sm = np.bincount(y_train_sm)\n",
        "i = np.nonzero(y_sm)[0]\n",
        "np.vstack((i,y_sm[i])).T"
      ],
      "execution_count": null,
      "outputs": [
        {
          "output_type": "execute_result",
          "data": {
            "text/plain": [
              "array([[   0, 2579],\n",
              "       [   1, 2579]])"
            ]
          },
          "metadata": {},
          "execution_count": 36
        }
      ]
    },
    {
      "cell_type": "markdown",
      "metadata": {
        "id": "-u4-jhNNd81Y"
      },
      "source": [
        "ENTRENAMIENTO RANDOM FOREST + RANDOM UNDERSAMPLING"
      ]
    },
    {
      "cell_type": "code",
      "metadata": {
        "colab": {
          "base_uri": "https://localhost:8080/",
          "height": 745
        },
        "id": "92OOHVz7VZko",
        "outputId": "ef5c95a1-00ee-456f-b7a0-92f263c3035f"
      },
      "source": [
        "# Random Forest\n",
        "# ==============================================================================\n",
        "arbol_aleatorio_balanceo.fit(X_train_sm, y_train_sm)\n",
        "\n",
        "y_pred_train = arbol_aleatorio_balanceo.predict(X_train_sm)\n",
        "y_pred_test = arbol_aleatorio_balanceo.predict(X_test)\n",
        "\n",
        "plot_confusion_matrix(arbol_aleatorio_balanceo, X_test, y_test, display_labels=['No',\n",
        "                                                          'Yes'],\n",
        "                     normalize='true', cmap='Blues');\n",
        "\n",
        "print(f'Train f1 Score: {f1_score(y_train_sm, y_pred_train)}')\n",
        "print(f'Test f1 Score: {f1_score(y_test, y_pred_test)}')\n",
        "print(classification_report(y_test, y_pred_test))\n",
        "\n",
        "#curva roc\n",
        "plot_roc_curve(arbol_aleatorio_balanceo, X_test, y_test, name = 'Random Forest balanceado')"
      ],
      "execution_count": null,
      "outputs": [
        {
          "output_type": "stream",
          "text": [
            "Train f1 Score: 0.9916521063871093\n",
            "Test f1 Score: 0.44989429175475687\n",
            "              precision    recall  f1-score   support\n",
            "\n",
            "           0       0.98      0.83      0.90      6742\n",
            "           1       0.31      0.81      0.45       658\n",
            "\n",
            "    accuracy                           0.82      7400\n",
            "   macro avg       0.64      0.82      0.67      7400\n",
            "weighted avg       0.92      0.82      0.86      7400\n",
            "\n"
          ],
          "name": "stdout"
        },
        {
          "output_type": "execute_result",
          "data": {
            "text/plain": [
              "<sklearn.metrics._plot.roc_curve.RocCurveDisplay at 0x7f8c7a51ae90>"
            ]
          },
          "metadata": {},
          "execution_count": 37
        },
        {
          "output_type": "display_data",
          "data": {
            "image/png": "[encoded data removed]",
            "text/plain": [
              "<Figure size 432x288 with 2 Axes>"
            ]
          },
          "metadata": {
            "needs_background": "light"
          }
        },
        {
          "output_type": "display_data",
          "data": {
            "image/png": "[encoded data removed]",
            "text/plain": [
              "<Figure size 432x288 with 1 Axes>"
            ]
          },
          "metadata": {
            "needs_background": "light"
          }
        }
      ]
    },
    {
      "cell_type": "markdown",
      "metadata": {
        "id": "equt-BLGXjNZ"
      },
      "source": [
        "*ADASYN*"
      ]
    },
    {
      "cell_type": "code",
      "metadata": {
        "colab": {
          "base_uri": "https://localhost:8080/"
        },
        "id": "a9Gcpep8XmPc",
        "outputId": "56b91655-d918-43b2-86c3-b03e89e8fea7"
      },
      "source": [
        "from imblearn.over_sampling import ADASYN\n",
        "\n",
        "ADA = ADASYN()\n",
        "X_train_sm, y_train_sm = ADA.fit_sample(X_train,y_train)\n",
        "\n",
        "\n",
        "#Checking for imbalances in the training data\n",
        "y_sm = np.bincount(y_train_sm)\n",
        "i = np.nonzero(y_sm)[0]\n",
        "np.vstack((i,y_sm[i])).T"
      ],
      "execution_count": null,
      "outputs": [
        {
          "output_type": "stream",
          "text": [
            "/usr/local/lib/python3.7/dist-packages/sklearn/utils/deprecation.py:87: FutureWarning: Function safe_indexing is deprecated; safe_indexing is deprecated in version 0.22 and will be removed in version 0.24.\n",
            "  warnings.warn(msg, category=FutureWarning)\n"
          ],
          "name": "stderr"
        },
        {
          "output_type": "execute_result",
          "data": {
            "text/plain": [
              "array([[    0, 27018],\n",
              "       [    1, 26882]])"
            ]
          },
          "metadata": {},
          "execution_count": 38
        }
      ]
    },
    {
      "cell_type": "markdown",
      "metadata": {
        "id": "Bb1_I2A4eCQY"
      },
      "source": [
        "ENTRENAMIENTO RANDOM FOREST + ADASYN"
      ]
    },
    {
      "cell_type": "code",
      "metadata": {
        "id": "JwSjylfQYIsr",
        "colab": {
          "base_uri": "https://localhost:8080/",
          "height": 745
        },
        "outputId": "0bcd94e1-e9ac-4ff5-9ce1-fb405b0bd2ba"
      },
      "source": [
        "# Random Forest\n",
        "# ==============================================================================\n",
        "arbol_aleatorio_balanceo.fit(X_train_sm, y_train_sm)\n",
        "\n",
        "y_pred_train = arbol_aleatorio_balanceo.predict(X_train_sm)\n",
        "y_pred_test = arbol_aleatorio_balanceo.predict(X_test)\n",
        "\n",
        "plot_confusion_matrix(arbol_aleatorio_balanceo, X_test, y_test, display_labels=['No',\n",
        "                                                          'Yes'],\n",
        "                     normalize='true', cmap='Blues');\n",
        "\n",
        "print(f'Train f1 Score: {f1_score(y_train_sm, y_pred_train)}')\n",
        "print(f'Test f1 Score: {f1_score(y_test, y_pred_test)}')\n",
        "print(classification_report(y_test, y_pred_test))\n",
        "\n",
        "#curva roc\n",
        "plot_roc_curve(arbol_aleatorio_balanceo, X_test, y_test, name = 'Random Forest balanceado')"
      ],
      "execution_count": null,
      "outputs": [
        {
          "output_type": "stream",
          "text": [
            "Train f1 Score: 0.9983435388710008\n",
            "Test f1 Score: 0.5138888888888888\n",
            "              precision    recall  f1-score   support\n",
            "\n",
            "           0       0.95      0.95      0.95      6742\n",
            "           1       0.52      0.51      0.51       658\n",
            "\n",
            "    accuracy                           0.91      7400\n",
            "   macro avg       0.74      0.73      0.73      7400\n",
            "weighted avg       0.91      0.91      0.91      7400\n",
            "\n"
          ],
          "name": "stdout"
        },
        {
          "output_type": "execute_result",
          "data": {
            "text/plain": [
              "<sklearn.metrics._plot.roc_curve.RocCurveDisplay at 0x7f8c7b7b5f50>"
            ]
          },
          "metadata": {},
          "execution_count": 39
        },
        {
          "output_type": "display_data",
          "data": {
            "image/png": "[encoded data removed]",
            "text/plain": [
              "<Figure size 432x288 with 2 Axes>"
            ]
          },
          "metadata": {
            "needs_background": "light"
          }
        },
        {
          "output_type": "display_data",
          "data": {
            "image/png": "[encoded data removed]",
            "text/plain": [
              "<Figure size 432x288 with 1 Axes>"
            ]
          },
          "metadata": {
            "needs_background": "light"
          }
        }
      ]
    },
    {
      "cell_type": "code",
      "metadata": {
        "colab": {
          "base_uri": "https://localhost:8080/",
          "height": 173
        },
        "id": "9XnzXw14eXlo",
        "outputId": "eaf630a6-d652-4962-a86d-b12f7f31e615"
      },
      "source": [
        "metricas_balanceo = pd.DataFrame()\n",
        "\n",
        "modelos = ['RANDOM FOREST SMOTE', 'RANDOM FOREST RANDOM OVERSAMPLING', 'RANDOM FOREST RANDOM UNDERSAMPLING', 'RANDOM FOREST ADASYN']\n",
        "f1_train = [0.99, 0.99, 0.99, 0.99]\n",
        "f1_test = [0.54, 0.46, 0.47, 0.53]\n",
        "AUC = [0.88, 0.89, 0.90, 0.89]\n",
        "metricas_balanceo['modelo'] = modelos\n",
        "metricas_balanceo['Valor Train f1 Score'] = f1_train\n",
        "metricas_balanceo['Valor Test f1 Score'] = f1_test\n",
        "metricas_balanceo['Curva ROC AUC'] = AUC\n",
        "metricas_balanceo.index = np.arange(1, len(metricas_balanceo)+1)\n",
        "metricas_balanceo.sort_values(by=['Valor Train f1 Score', 'Valor Test f1 Score'], ascending=False, ignore_index=True)"
      ],
      "execution_count": null,
      "outputs": [
        {
          "output_type": "execute_result",
          "data": {
            "text/html": [
              "<div>\n",
              "<style scoped>\n",
              "    .dataframe tbody tr th:only-of-type {\n",
              "        vertical-align: middle;\n",
              "    }\n",
              "\n",
              "    .dataframe tbody tr th {\n",
              "        vertical-align: top;\n",
              "    }\n",
              "\n",
              "    .dataframe thead th {\n",
              "        text-align: right;\n",
              "    }\n",
              "</style>\n",
              "<table border=\"1\" class=\"dataframe\">\n",
              "  <thead>\n",
              "    <tr style=\"text-align: right;\">\n",
              "      <th></th>\n",
              "      <th>modelo</th>\n",
              "      <th>Valor Train f1 Score</th>\n",
              "      <th>Valor Test f1 Score</th>\n",
              "      <th>Curva ROC AUC</th>\n",
              "    </tr>\n",
              "  </thead>\n",
              "  <tbody>\n",
              "    <tr>\n",
              "      <th>0</th>\n",
              "      <td>RANDOM FOREST SMOTE</td>\n",
              "      <td>0.99</td>\n",
              "      <td>0.54</td>\n",
              "      <td>0.88</td>\n",
              "    </tr>\n",
              "    <tr>\n",
              "      <th>1</th>\n",
              "      <td>RANDOM FOREST ADASYN</td>\n",
              "      <td>0.99</td>\n",
              "      <td>0.53</td>\n",
              "      <td>0.89</td>\n",
              "    </tr>\n",
              "    <tr>\n",
              "      <th>2</th>\n",
              "      <td>RANDOM FOREST RANDOM UNDERSAMPLING</td>\n",
              "      <td>0.99</td>\n",
              "      <td>0.47</td>\n",
              "      <td>0.90</td>\n",
              "    </tr>\n",
              "    <tr>\n",
              "      <th>3</th>\n",
              "      <td>RANDOM FOREST RANDOM OVERSAMPLING</td>\n",
              "      <td>0.99</td>\n",
              "      <td>0.46</td>\n",
              "      <td>0.89</td>\n",
              "    </tr>\n",
              "  </tbody>\n",
              "</table>\n",
              "</div>"
            ],
            "text/plain": [
              "                               modelo  ...  Curva ROC AUC\n",
              "0                 RANDOM FOREST SMOTE  ...           0.88\n",
              "1                RANDOM FOREST ADASYN  ...           0.89\n",
              "2  RANDOM FOREST RANDOM UNDERSAMPLING  ...           0.90\n",
              "3   RANDOM FOREST RANDOM OVERSAMPLING  ...           0.89\n",
              "\n",
              "[4 rows x 4 columns]"
            ]
          },
          "metadata": {},
          "execution_count": 40
        }
      ]
    },
    {
      "cell_type": "markdown",
      "metadata": {
        "id": "aNQLOcUt9-us"
      },
      "source": [
        "Los mejores resultados se obtuvieron con el método de balanceo SMOTE. \n",
        "\n",
        "Se procede entonces a entrenar los modelos con este método."
      ]
    },
    {
      "cell_type": "markdown",
      "metadata": {
        "id": "2bMDoL_kSqJG"
      },
      "source": [
        "**Entrenamiento con datos balanceados**"
      ]
    },
    {
      "cell_type": "markdown",
      "metadata": {
        "id": "xQVKCH6IS3FZ"
      },
      "source": [
        "SMOTE"
      ]
    },
    {
      "cell_type": "code",
      "metadata": {
        "colab": {
          "base_uri": "https://localhost:8080/"
        },
        "id": "MOYhQUtKS6-y",
        "outputId": "d141f763-1884-49c2-e2e1-319fc3b6a6d0"
      },
      "source": [
        "#Applying SMOTE on the trainingg data\n",
        "\n",
        "from imblearn.over_sampling import SMOTE\n",
        "\n",
        "sm = SMOTE(random_state = 12)\n",
        "X_train_sm, y_train_sm = sm.fit_sample(X_train,y_train)\n",
        "\n",
        "#Checking for imbalances in the training data\n",
        "y_sm = np.bincount(y_train_sm)\n",
        "i = np.nonzero(y_sm)[0]\n",
        "np.vstack((i,y_sm[i])).T"
      ],
      "execution_count": null,
      "outputs": [
        {
          "output_type": "stream",
          "text": [
            "/usr/local/lib/python3.7/dist-packages/sklearn/utils/deprecation.py:87: FutureWarning: Function safe_indexing is deprecated; safe_indexing is deprecated in version 0.22 and will be removed in version 0.24.\n",
            "  warnings.warn(msg, category=FutureWarning)\n"
          ],
          "name": "stderr"
        },
        {
          "output_type": "execute_result",
          "data": {
            "text/plain": [
              "array([[    0, 27018],\n",
              "       [    1, 27018]])"
            ]
          },
          "metadata": {},
          "execution_count": 41
        }
      ]
    },
    {
      "cell_type": "markdown",
      "metadata": {
        "id": "aA14fhbDZaWv"
      },
      "source": [
        "*KNN*"
      ]
    },
    {
      "cell_type": "code",
      "metadata": {
        "colab": {
          "base_uri": "https://localhost:8080/",
          "height": 745
        },
        "id": "BqA0F0dwW6vC",
        "outputId": "e2d41cc2-ab7d-4e63-e789-05eef4146fb6"
      },
      "source": [
        "# Fit k-NN classifier and make predictions\n",
        "# KNN con datos balanceados\n",
        "\n",
        "knn = KNeighborsClassifier()\n",
        "knn.fit(X_train_sm, y_train_sm)\n",
        "y_pred_train = knn.predict(X_train_sm)\n",
        "y_pred_test = knn.predict(X_test)\n",
        "\n",
        "plot_confusion_matrix(knn, X_test, y_test, display_labels=['No',\n",
        "                                                          'Yes'],\n",
        "                     normalize='true', cmap='Blues');\n",
        "    \n",
        "print(f'Train f1 Score: {f1_score(y_train_sm, y_pred_train)}')\n",
        "print(f'Test f1 Score: {f1_score(y_test, y_pred_test)}')\n",
        "print(classification_report(y_test, y_pred_test))\n",
        "\n",
        "#curva roc\n",
        "plot_roc_curve(knn, X_test, y_test, name = 'KNN datos balanceados')"
      ],
      "execution_count": null,
      "outputs": [
        {
          "output_type": "stream",
          "text": [
            "Train f1 Score: 0.9536201097539387\n",
            "Test f1 Score: 0.4313725490196078\n",
            "              precision    recall  f1-score   support\n",
            "\n",
            "           0       0.96      0.87      0.91      6742\n",
            "           1       0.33      0.64      0.43       658\n",
            "\n",
            "    accuracy                           0.85      7400\n",
            "   macro avg       0.64      0.75      0.67      7400\n",
            "weighted avg       0.90      0.85      0.87      7400\n",
            "\n"
          ],
          "name": "stdout"
        },
        {
          "output_type": "execute_result",
          "data": {
            "text/plain": [
              "<sklearn.metrics._plot.roc_curve.RocCurveDisplay at 0x7f8c7a938c90>"
            ]
          },
          "metadata": {},
          "execution_count": 42
        },
        {
          "output_type": "display_data",
          "data": {
            "image/png": "[encoded data removed]",
            "text/plain": [
              "<Figure size 432x288 with 2 Axes>"
            ]
          },
          "metadata": {
            "needs_background": "light"
          }
        },
        {
          "output_type": "display_data",
          "data": {
            "image/png": "[encoded data removed]",
            "text/plain": [
              "<Figure size 432x288 with 1 Axes>"
            ]
          },
          "metadata": {
            "needs_background": "light"
          }
        }
      ]
    },
    {
      "cell_type": "markdown",
      "metadata": {
        "id": "ByuEDtcSZhgW"
      },
      "source": [
        "*Random Forest*"
      ]
    },
    {
      "cell_type": "code",
      "metadata": {
        "colab": {
          "base_uri": "https://localhost:8080/",
          "height": 745
        },
        "id": "B_5_tHOsS_ks",
        "outputId": "e20edb94-b615-498b-9b4b-5705a11e5b7b"
      },
      "source": [
        "# RandomForest + Balanceo de datos\n",
        "# ==============================================================================\n",
        "arbol_aleatorio_balanceo = RandomForestClassifier(\n",
        "            n_estimators = 10,\n",
        "            max_depth    = None,\n",
        "            max_features = 'auto',\n",
        "            oob_score    = False,\n",
        "            n_jobs       = -1,\n",
        "            random_state = 123\n",
        "         )\n",
        "\n",
        "# Entrenamiento del modelo\n",
        "# ==============================================================================\n",
        "arbol_aleatorio_balanceo.fit(X_train_sm, y_train_sm)\n",
        "\n",
        "y_pred_train = arbol_aleatorio_balanceo.predict(X_train_sm)\n",
        "y_pred_test = arbol_aleatorio_balanceo.predict(X_test)\n",
        "\n",
        "plot_confusion_matrix(arbol_aleatorio_balanceo, X_test, y_test, display_labels=['No',\n",
        "                                                          'Yes'],\n",
        "                     normalize='true', cmap='Blues');\n",
        "\n",
        "print(f'Train f1 Score: {f1_score(y_train_sm, y_pred_train)}')\n",
        "print(f'Test f1 Score: {f1_score(y_test, y_pred_test)}')\n",
        "print(classification_report(y_test, y_pred_test))\n",
        "\n",
        "#curva roc\n",
        "plot_roc_curve(arbol_aleatorio_balanceo, X_test, y_test, name = 'Random Forest balanceado')"
      ],
      "execution_count": null,
      "outputs": [
        {
          "output_type": "stream",
          "text": [
            "Train f1 Score: 0.9983703703703705\n",
            "Test f1 Score: 0.54292343387471\n",
            "              precision    recall  f1-score   support\n",
            "\n",
            "           0       0.95      0.96      0.96      6742\n",
            "           1       0.55      0.53      0.54       658\n",
            "\n",
            "    accuracy                           0.92      7400\n",
            "   macro avg       0.75      0.75      0.75      7400\n",
            "weighted avg       0.92      0.92      0.92      7400\n",
            "\n"
          ],
          "name": "stdout"
        },
        {
          "output_type": "execute_result",
          "data": {
            "text/plain": [
              "<sklearn.metrics._plot.roc_curve.RocCurveDisplay at 0x7f8c79215e90>"
            ]
          },
          "metadata": {},
          "execution_count": 43
        },
        {
          "output_type": "display_data",
          "data": {
            "image/png": "[encoded data removed]",
            "text/plain": [
              "<Figure size 432x288 with 2 Axes>"
            ]
          },
          "metadata": {
            "needs_background": "light"
          }
        },
        {
          "output_type": "display_data",
          "data": {
            "image/png": "[encoded data removed]",
            "text/plain": [
              "<Figure size 432x288 with 1 Axes>"
            ]
          },
          "metadata": {
            "needs_background": "light"
          }
        }
      ]
    },
    {
      "cell_type": "markdown",
      "metadata": {
        "id": "VhpUpnozUGsJ"
      },
      "source": [
        "XG Boost"
      ]
    },
    {
      "cell_type": "code",
      "metadata": {
        "colab": {
          "base_uri": "https://localhost:8080/",
          "height": 745
        },
        "id": "jez1damrUgcC",
        "outputId": "44efa1b2-7a53-44a3-d4da-93fe208e4b50"
      },
      "source": [
        "train_x = X_train_sm\n",
        "test_x = X_test.values\n",
        "train_y = y_train_sm\n",
        "test_y = y_test.values\n",
        "\n",
        "xgb = XGBClassifier()\n",
        "xgb.fit(train_x, train_y)\n",
        "y_pred_train = xgb.predict(train_x)\n",
        "y_pred_test = xgb.predict(test_x)\n",
        "    \n",
        "plot_confusion_matrix(xgb, test_x, test_y, display_labels=['No',\n",
        "                                                          'Yes'],\n",
        "                     normalize='true', cmap='Blues');\n",
        "\n",
        "print(f'Train f1 Score: {f1_score(train_y, y_pred_train)}')\n",
        "print(f'Test f1 Score: {f1_score(test_y, y_pred_test)}')\n",
        "print(classification_report(test_y, y_pred_test))\n",
        "\n",
        "\n",
        "#curva roc\n",
        "plot_roc_curve(xgb, test_x, test_y, name = 'XGB datos balanceados')"
      ],
      "execution_count": null,
      "outputs": [
        {
          "output_type": "stream",
          "text": [
            "Train f1 Score: 0.911579372806937\n",
            "Test f1 Score: 0.4928457869634341\n",
            "              precision    recall  f1-score   support\n",
            "\n",
            "           0       0.97      0.89      0.93      6742\n",
            "           1       0.38      0.71      0.49       658\n",
            "\n",
            "    accuracy                           0.87      7400\n",
            "   macro avg       0.67      0.80      0.71      7400\n",
            "weighted avg       0.92      0.87      0.89      7400\n",
            "\n"
          ],
          "name": "stdout"
        },
        {
          "output_type": "execute_result",
          "data": {
            "text/plain": [
              "<sklearn.metrics._plot.roc_curve.RocCurveDisplay at 0x7f8c6e84ed90>"
            ]
          },
          "metadata": {},
          "execution_count": 44
        },
        {
          "output_type": "display_data",
          "data": {
            "image/png": "[encoded data removed]",
            "text/plain": [
              "<Figure size 432x288 with 2 Axes>"
            ]
          },
          "metadata": {
            "needs_background": "light"
          }
        },
        {
          "output_type": "display_data",
          "data": {
            "image/png": "[encoded data removed]",
            "text/plain": [
              "<Figure size 432x288 with 1 Axes>"
            ]
          },
          "metadata": {
            "needs_background": "light"
          }
        }
      ]
    },
    {
      "cell_type": "markdown",
      "metadata": {
        "id": "1OcOGOq2UKbn"
      },
      "source": [
        "Gradient Boost"
      ]
    },
    {
      "cell_type": "code",
      "metadata": {
        "colab": {
          "base_uri": "https://localhost:8080/",
          "height": 745
        },
        "id": "-zLlrAcMUogo",
        "outputId": "3bfd5f04-34ff-47cf-f37e-276437b8ed05"
      },
      "source": [
        "train_x = X_train_sm\n",
        "test_x = X_test.values\n",
        "train_y = y_train_sm\n",
        "test_y = y_test.values\n",
        "\n",
        "gb_clf = GradientBoostingClassifier()\n",
        "gb_clf.fit(train_x, train_y)\n",
        "y_pred_train = gb_clf.predict(train_x)\n",
        "y_pred_test = gb_clf.predict(test_x)\n",
        "    \n",
        "plot_confusion_matrix(gb_clf, test_x, test_y, display_labels=['No',\n",
        "                                                          'Yes'],\n",
        "                     normalize='true', cmap='Blues');\n",
        "\n",
        "print(f'Train f1 Score: {f1_score(train_y, y_pred_train)}')\n",
        "print(f'Test f1 Score: {f1_score(test_y, y_pred_test)}')\n",
        "print(classification_report(test_y, y_pred_test))\n",
        "\n",
        "\n",
        "#curva roc\n",
        "plot_roc_curve(gb_clf, test_x, test_y, name = 'Gradient Boosting con datos balanceados')"
      ],
      "execution_count": null,
      "outputs": [
        {
          "output_type": "stream",
          "text": [
            "Train f1 Score: 0.9134094230377919\n",
            "Test f1 Score: 0.49616648411829134\n",
            "              precision    recall  f1-score   support\n",
            "\n",
            "           0       0.97      0.89      0.93      6742\n",
            "           1       0.39      0.69      0.50       658\n",
            "\n",
            "    accuracy                           0.88      7400\n",
            "   macro avg       0.68      0.79      0.71      7400\n",
            "weighted avg       0.92      0.88      0.89      7400\n",
            "\n"
          ],
          "name": "stdout"
        },
        {
          "output_type": "execute_result",
          "data": {
            "text/plain": [
              "<sklearn.metrics._plot.roc_curve.RocCurveDisplay at 0x7f8c7a4723d0>"
            ]
          },
          "metadata": {},
          "execution_count": 51
        },
        {
          "output_type": "display_data",
          "data": {
            "image/png": "[encoded data removed]",
            "text/plain": [
              "<Figure size 432x288 with 2 Axes>"
            ]
          },
          "metadata": {
            "needs_background": "light"
          }
        },
        {
          "output_type": "display_data",
          "data": {
            "image/png": "[encoded data removed]",
            "text/plain": [
              "<Figure size 432x288 with 1 Axes>"
            ]
          },
          "metadata": {
            "needs_background": "light"
          }
        }
      ]
    },
    {
      "cell_type": "code",
      "metadata": {
        "colab": {
          "base_uri": "https://localhost:8080/",
          "height": 173
        },
        "id": "WfQpwubMgRGR",
        "outputId": "50866bc7-dc94-4032-ba07-ba1da7d88fda"
      },
      "source": [
        "metricas_do = pd.DataFrame()\n",
        "\n",
        "modelos = ['KNN DB', 'Random Forest DB', 'XG Boost DB', 'Gradient Boosting DB']\n",
        "f1_train = [0.95, 0.99, 0.91, 0.91]\n",
        "f1_test = [0.43, 0.54, 0.49, 0.49]\n",
        "AUC = [0.81, 0.88, 0.90, 0.90]\n",
        "metricas_do['modelo'] = modelos\n",
        "metricas_do['Valor Train f1 Score'] = f1_train\n",
        "metricas_do['Valor Test f1 Score'] = f1_test\n",
        "metricas_do['Curva ROC AUC'] = AUC\n",
        "metricas_do.sort_values(by=['Valor Train f1 Score', 'Valor Test f1 Score'], ascending=False, ignore_index=True)"
      ],
      "execution_count": null,
      "outputs": [
        {
          "output_type": "execute_result",
          "data": {
            "text/html": [
              "<div>\n",
              "<style scoped>\n",
              "    .dataframe tbody tr th:only-of-type {\n",
              "        vertical-align: middle;\n",
              "    }\n",
              "\n",
              "    .dataframe tbody tr th {\n",
              "        vertical-align: top;\n",
              "    }\n",
              "\n",
              "    .dataframe thead th {\n",
              "        text-align: right;\n",
              "    }\n",
              "</style>\n",
              "<table border=\"1\" class=\"dataframe\">\n",
              "  <thead>\n",
              "    <tr style=\"text-align: right;\">\n",
              "      <th></th>\n",
              "      <th>modelo</th>\n",
              "      <th>Valor Train f1 Score</th>\n",
              "      <th>Valor Test f1 Score</th>\n",
              "      <th>Curva ROC AUC</th>\n",
              "    </tr>\n",
              "  </thead>\n",
              "  <tbody>\n",
              "    <tr>\n",
              "      <th>0</th>\n",
              "      <td>Random Forest DB</td>\n",
              "      <td>0.99</td>\n",
              "      <td>0.54</td>\n",
              "      <td>0.88</td>\n",
              "    </tr>\n",
              "    <tr>\n",
              "      <th>1</th>\n",
              "      <td>KNN DB</td>\n",
              "      <td>0.95</td>\n",
              "      <td>0.43</td>\n",
              "      <td>0.81</td>\n",
              "    </tr>\n",
              "    <tr>\n",
              "      <th>2</th>\n",
              "      <td>XG Boost DB</td>\n",
              "      <td>0.91</td>\n",
              "      <td>0.49</td>\n",
              "      <td>0.90</td>\n",
              "    </tr>\n",
              "    <tr>\n",
              "      <th>3</th>\n",
              "      <td>Gradient Boosting DB</td>\n",
              "      <td>0.91</td>\n",
              "      <td>0.49</td>\n",
              "      <td>0.90</td>\n",
              "    </tr>\n",
              "  </tbody>\n",
              "</table>\n",
              "</div>"
            ],
            "text/plain": [
              "                 modelo  ...  Curva ROC AUC\n",
              "0      Random Forest DB  ...           0.88\n",
              "1                KNN DB  ...           0.81\n",
              "2           XG Boost DB  ...           0.90\n",
              "3  Gradient Boosting DB  ...           0.90\n",
              "\n",
              "[4 rows x 4 columns]"
            ]
          },
          "metadata": {},
          "execution_count": 46
        }
      ]
    },
    {
      "cell_type": "markdown",
      "metadata": {
        "id": "wKKfPWk3cNK_"
      },
      "source": [
        "**Análisis PCA**\n",
        "\n",
        "Se aplica el análisis de componentes principales con el propósito de reducir los tiempos de ejecución, especialmente en la aplicación de KNN, e identificar si hay mejoras en los resultados al descartar las variables \"menos importantes\""
      ]
    },
    {
      "cell_type": "markdown",
      "metadata": {
        "id": "Bk-izoTYRkcO"
      },
      "source": [
        "Gráfica de la varianza explicada."
      ]
    },
    {
      "cell_type": "code",
      "metadata": {
        "colab": {
          "base_uri": "https://localhost:8080/",
          "height": 388
        },
        "id": "YiJFhoBzB9wb",
        "outputId": "9eb38851-3301-414d-e9aa-4fc646de3481"
      },
      "source": [
        " #Calcular la varianza acumulada para todos los componentes\n",
        "\n",
        "pca = PCA(n_components=36)\n",
        "pca.fit(X_train_sm)\n",
        "\n",
        "cum_exp_var = []\n",
        "var_exp = 0\n",
        "for i in pca.explained_variance_ratio_:\n",
        "    var_exp += i\n",
        "    cum_exp_var.append(var_exp)\n",
        "\n",
        "#Gráfica\n",
        "\n",
        "fig, ax = plt.subplots(figsize=(8,6))\n",
        "ax.bar(range(1,37), cum_exp_var)\n",
        "ax.set_xlabel('# Principal Components')\n",
        "ax.set_ylabel('% Cumulative Variance Explained');"
      ],
      "execution_count": null,
      "outputs": [
        {
          "output_type": "display_data",
          "data": {
            "image/png": "[encoded data removed]",
            "text/plain": [
              "<Figure size 576x432 with 1 Axes>"
            ]
          },
          "metadata": {
            "needs_background": "light"
          }
        }
      ]
    },
    {
      "cell_type": "markdown",
      "metadata": {
        "id": "842F_MvOSb_V"
      },
      "source": [
        "Se identifica que a partir de 10 componentes se explica el 70% de la varianza."
      ]
    },
    {
      "cell_type": "code",
      "metadata": {
        "colab": {
          "base_uri": "https://localhost:8080/"
        },
        "id": "bZZalW_iCr2S",
        "outputId": "5c8fc96b-b6e6-4887-e10c-a0d56bdedb9a"
      },
      "source": [
        "# Función para identificar el número de componentes que explican x % de la varianza, para nuestro caso 70%\n",
        "# PCA\n",
        "# https://towardsdatascience.com/one-hot-encoding-standardization-pca-data-preparation-steps-for-segmentation-in-python-24d07671cf0b\n",
        "from sklearn.decomposition import PCA\n",
        "\n",
        "for comp in range(3, X.shape[1]):\n",
        "    pca = PCA(n_components= comp, random_state=42)\n",
        "    pca.fit(X_train_sm)\n",
        "    comp_check = pca.explained_variance_ratio_\n",
        "    final_comp = comp\n",
        "    if comp_check.sum() > 0.70:\n",
        "        break\n",
        "        \n",
        "Final_PCA = PCA(n_components= final_comp,random_state=42)\n",
        "Final_PCA.fit(df)\n",
        "cluster_df=Final_PCA.transform(df)\n",
        "num_comps = comp_check.shape[0]\n",
        "print(\"Using {} components, we can explain {}% of the variability in the original data.\".format(final_comp,comp_check.sum()*100))"
      ],
      "execution_count": null,
      "outputs": [
        {
          "output_type": "stream",
          "text": [
            "Using 11 components, we can explain 72.56912604889624% of the variability in the original data.\n"
          ],
          "name": "stdout"
        }
      ]
    },
    {
      "cell_type": "markdown",
      "metadata": {
        "id": "uGtCFccfTDMg"
      },
      "source": [
        "Se aplica el PCA con 15 componentes a los conjuntos de datos train y test."
      ]
    },
    {
      "cell_type": "code",
      "metadata": {
        "id": "TVfRyTBpbYMb"
      },
      "source": [
        "# el PCA debe explicar + del 50%\n",
        "pca = PCA(n_components=15)\n",
        "pca.fit(X_train_sm)\n",
        "\n",
        "X_train_pca = pca.transform(X_train_sm)\n",
        "X_test_pca = pca.transform(X_test)"
      ],
      "execution_count": null,
      "outputs": []
    },
    {
      "cell_type": "markdown",
      "metadata": {
        "id": "amHX5NzyP865"
      },
      "source": [
        "**Entrenamiento con PCA**"
      ]
    },
    {
      "cell_type": "markdown",
      "metadata": {
        "id": "LBs3GnWjT_eE"
      },
      "source": [
        "*KNN*"
      ]
    },
    {
      "cell_type": "code",
      "metadata": {
        "colab": {
          "base_uri": "https://localhost:8080/"
        },
        "id": "RzNfiNqsKT5a",
        "outputId": "2f28cf41-58bf-4dc4-efc5-4a167f71ab22"
      },
      "source": [
        "# Fit k-NN classifier and make predictions\n",
        "knn = KNeighborsClassifier()\n",
        "knn.fit(X_train_pca, y_train_sm)\n",
        "y_pred_train = knn.predict(X_train_pca)\n",
        "y_pred_test = knn.predict(X_test_pca)\n",
        "    \n",
        "print(f'Train f1 Score: {f1_score(y_train_sm, y_pred_train)}')\n",
        "print(f'Test f1 Score: {f1_score(y_test, y_pred_test)}')\n",
        "print(classification_report(y_test, y_pred_test))"
      ],
      "execution_count": null,
      "outputs": [
        {
          "output_type": "stream",
          "text": [
            "Train f1 Score: 0.9426923898341283\n",
            "Test f1 Score: 0.41841432225063935\n",
            "              precision    recall  f1-score   support\n",
            "\n",
            "           0       0.96      0.87      0.91      6742\n",
            "           1       0.32      0.62      0.42       658\n",
            "\n",
            "    accuracy                           0.85      7400\n",
            "   macro avg       0.64      0.74      0.66      7400\n",
            "weighted avg       0.90      0.85      0.87      7400\n",
            "\n"
          ],
          "name": "stdout"
        }
      ]
    },
    {
      "cell_type": "code",
      "metadata": {
        "colab": {
          "base_uri": "https://localhost:8080/",
          "height": 279
        },
        "id": "WOKXfO_-NMW7",
        "outputId": "e229cbc4-69f7-4f24-c290-f1a567734804"
      },
      "source": [
        "plot_confusion_matrix(knn, X_test_pca, y_test, display_labels=['No',\n",
        "                                                          'Yes'],\n",
        "                     normalize='true', cmap='Blues');"
      ],
      "execution_count": null,
      "outputs": [
        {
          "output_type": "display_data",
          "data": {
            "image/png": "[encoded data removed]",
            "text/plain": [
              "<Figure size 432x288 with 2 Axes>"
            ]
          },
          "metadata": {
            "needs_background": "light"
          }
        }
      ]
    },
    {
      "cell_type": "code",
      "metadata": {
        "colab": {
          "base_uri": "https://localhost:8080/",
          "height": 296
        },
        "id": "hAQusthdinql",
        "outputId": "5bb506db-60de-41ab-d7c2-fbb9568436c1"
      },
      "source": [
        "#curva roc\n",
        "plot_roc_curve(knn, X_test_pca, y_test, name = 'KNN  PCA')"
      ],
      "execution_count": null,
      "outputs": [
        {
          "output_type": "execute_result",
          "data": {
            "text/plain": [
              "<sklearn.metrics._plot.roc_curve.RocCurveDisplay at 0x7f8c7b2e8bd0>"
            ]
          },
          "metadata": {},
          "execution_count": 53
        },
        {
          "output_type": "display_data",
          "data": {
            "image/png": "[encoded data removed]",
            "text/plain": [
              "<Figure size 432x288 with 1 Axes>"
            ]
          },
          "metadata": {
            "needs_background": "light"
          }
        }
      ]
    },
    {
      "cell_type": "markdown",
      "metadata": {
        "id": "0AZXpISKUEcL"
      },
      "source": [
        "*Random Forest*"
      ]
    },
    {
      "cell_type": "code",
      "metadata": {
        "colab": {
          "base_uri": "https://localhost:8080/"
        },
        "id": "4wmVFLIugf_u",
        "outputId": "53926ce5-64fb-4a15-dbc0-fb9d613f4b20"
      },
      "source": [
        "# RandomForest + Balanceo de datos + PCA\n",
        "# ==============================================================================\n",
        "arbol_aleatorio_pca = RandomForestClassifier(\n",
        "            n_estimators = 100,\n",
        "            max_depth    = None,\n",
        "            max_features = 'auto',\n",
        "            oob_score    = False,\n",
        "            n_jobs       = -1,\n",
        "            random_state = 123\n",
        "         )\n",
        "\n",
        "# Entrenamiento del modelo\n",
        "# ==============================================================================\n",
        "arbol_aleatorio_pca.fit(X_train_pca, y_train_sm)\n",
        "\n",
        "y_pred_train = arbol_aleatorio_pca.predict(X_train_pca)\n",
        "y_pred_test = arbol_aleatorio_pca.predict(X_test_pca)\n",
        "\n",
        "print(f'Train f1 Score: {f1_score(y_train_sm, y_pred_train)}')\n",
        "print(f'Test f1 Score: {f1_score(y_test, y_pred_test)}')\n",
        "print(classification_report(y_test, y_pred_test))"
      ],
      "execution_count": null,
      "outputs": [
        {
          "output_type": "stream",
          "text": [
            "Train f1 Score: 0.9999814934764505\n",
            "Test f1 Score: 0.4833555259653795\n",
            "              precision    recall  f1-score   support\n",
            "\n",
            "           0       0.96      0.93      0.94      6742\n",
            "           1       0.43      0.55      0.48       658\n",
            "\n",
            "    accuracy                           0.90      7400\n",
            "   macro avg       0.69      0.74      0.71      7400\n",
            "weighted avg       0.91      0.90      0.90      7400\n",
            "\n"
          ],
          "name": "stdout"
        }
      ]
    },
    {
      "cell_type": "code",
      "metadata": {
        "colab": {
          "base_uri": "https://localhost:8080/",
          "height": 279
        },
        "id": "Irj-yoLlkDt5",
        "outputId": "fa679f0a-b01e-4ec5-9fa0-01c860aaa500"
      },
      "source": [
        "plot_confusion_matrix(arbol_aleatorio_pca, X_test_pca, y_test, display_labels=['No',\n",
        "                                                          'Yes'],\n",
        "                     normalize='true', cmap='Blues');"
      ],
      "execution_count": null,
      "outputs": [
        {
          "output_type": "display_data",
          "data": {
            "image/png": "[encoded data removed]",
            "text/plain": [
              "<Figure size 432x288 with 2 Axes>"
            ]
          },
          "metadata": {
            "needs_background": "light"
          }
        }
      ]
    },
    {
      "cell_type": "code",
      "metadata": {
        "colab": {
          "base_uri": "https://localhost:8080/",
          "height": 296
        },
        "id": "TMPocw1fbuJO",
        "outputId": "08c4833f-763b-4a2c-d833-d4aae7f17ec1"
      },
      "source": [
        "#curva roc\n",
        "plot_roc_curve(arbol_aleatorio_pca, X_test_pca, y_test, name = 'Random Forest PCA')"
      ],
      "execution_count": null,
      "outputs": [
        {
          "output_type": "execute_result",
          "data": {
            "text/plain": [
              "<sklearn.metrics._plot.roc_curve.RocCurveDisplay at 0x7f8c7b7b5890>"
            ]
          },
          "metadata": {},
          "execution_count": 56
        },
        {
          "output_type": "display_data",
          "data": {
            "image/png": "[encoded data removed]",
            "text/plain": [
              "<Figure size 432x288 with 1 Axes>"
            ]
          },
          "metadata": {
            "needs_background": "light"
          }
        }
      ]
    },
    {
      "cell_type": "markdown",
      "metadata": {
        "id": "swBoFkfHl_YU"
      },
      "source": [
        "*XG BOOST*"
      ]
    },
    {
      "cell_type": "code",
      "metadata": {
        "colab": {
          "base_uri": "https://localhost:8080/",
          "height": 745
        },
        "id": "mAjXAiPCWYGW",
        "outputId": "f6cb9398-08d6-4953-da80-ba19a1907b11"
      },
      "source": [
        "train_x = X_train_pca\n",
        "test_x = X_test_pca\n",
        "train_y = y_train_sm\n",
        "test_y = y_test.values\n",
        "\n",
        "xgb = XGBClassifier()\n",
        "xgb.fit(train_x, train_y)\n",
        "y_pred_train = xgb.predict(train_x)\n",
        "y_pred_test = xgb.predict(test_x)\n",
        "    \n",
        "plot_confusion_matrix(xgb, test_x, test_y, display_labels=['No',\n",
        "                                                          'Yes'],\n",
        "                     normalize='true', cmap='Blues');\n",
        "\n",
        "print(f'Train f1 Score: {f1_score(train_y, y_pred_train)}')\n",
        "print(f'Test f1 Score: {f1_score(test_y, y_pred_test)}')\n",
        "print(classification_report(test_y, y_pred_test))\n",
        "\n",
        "\n",
        "#curva roc\n",
        "plot_roc_curve(xgb, test_x, test_y, name = 'XGB datos balanceados')"
      ],
      "execution_count": null,
      "outputs": [
        {
          "output_type": "stream",
          "text": [
            "Train f1 Score: 0.8072360723607236\n",
            "Test f1 Score: 0.37289404717334335\n",
            "              precision    recall  f1-score   support\n",
            "\n",
            "           0       0.97      0.78      0.86      6742\n",
            "           1       0.25      0.76      0.37       658\n",
            "\n",
            "    accuracy                           0.77      7400\n",
            "   macro avg       0.61      0.77      0.62      7400\n",
            "weighted avg       0.91      0.77      0.82      7400\n",
            "\n"
          ],
          "name": "stdout"
        },
        {
          "output_type": "execute_result",
          "data": {
            "text/plain": [
              "<sklearn.metrics._plot.roc_curve.RocCurveDisplay at 0x7f8c63e1d890>"
            ]
          },
          "metadata": {},
          "execution_count": 57
        },
        {
          "output_type": "display_data",
          "data": {
            "image/png": "[encoded data removed]",
            "text/plain": [
              "<Figure size 432x288 with 2 Axes>"
            ]
          },
          "metadata": {
            "needs_background": "light"
          }
        },
        {
          "output_type": "display_data",
          "data": {
            "image/png": "[encoded data removed]",
            "text/plain": [
              "<Figure size 432x288 with 1 Axes>"
            ]
          },
          "metadata": {
            "needs_background": "light"
          }
        }
      ]
    },
    {
      "cell_type": "markdown",
      "metadata": {
        "id": "MWa8XIZymGeK"
      },
      "source": [
        "*Gradient Boosting*"
      ]
    },
    {
      "cell_type": "code",
      "metadata": {
        "colab": {
          "base_uri": "https://localhost:8080/",
          "height": 745
        },
        "id": "ett-O9paXILV",
        "outputId": "dca4646a-2895-4937-ee82-9ee7482f670e"
      },
      "source": [
        "train_x = X_train_pca\n",
        "test_x = X_test_pca\n",
        "train_y = y_train_sm\n",
        "test_y = y_test.values\n",
        "\n",
        "gb_clf = GradientBoostingClassifier()\n",
        "gb_clf.fit(train_x, train_y)\n",
        "y_pred_train = gb_clf.predict(train_x)\n",
        "y_pred_test = gb_clf.predict(test_x)\n",
        "    \n",
        "plot_confusion_matrix(gb_clf, test_x, test_y, display_labels=['No',\n",
        "                                                          'Yes'],\n",
        "                     normalize='true', cmap='Blues');\n",
        "\n",
        "print(f'Train f1 Score: {f1_score(train_y, y_pred_train)}')\n",
        "print(f'Test f1 Score: {f1_score(test_y, y_pred_test)}')\n",
        "print(classification_report(test_y, y_pred_test))\n",
        "\n",
        "\n",
        "#curva roc\n",
        "plot_roc_curve(gb_clf, test_x, test_y, name = 'Gradient Boosting PCA')"
      ],
      "execution_count": null,
      "outputs": [
        {
          "output_type": "stream",
          "text": [
            "Train f1 Score: 0.8071896607899215\n",
            "Test f1 Score: 0.3820736802126852\n",
            "              precision    recall  f1-score   support\n",
            "\n",
            "           0       0.97      0.78      0.87      6742\n",
            "           1       0.25      0.76      0.38       658\n",
            "\n",
            "    accuracy                           0.78      7400\n",
            "   macro avg       0.61      0.77      0.62      7400\n",
            "weighted avg       0.91      0.78      0.82      7400\n",
            "\n"
          ],
          "name": "stdout"
        },
        {
          "output_type": "execute_result",
          "data": {
            "text/plain": [
              "<sklearn.metrics._plot.roc_curve.RocCurveDisplay at 0x7f8c63e1d5d0>"
            ]
          },
          "metadata": {},
          "execution_count": 58
        },
        {
          "output_type": "display_data",
          "data": {
            "image/png": "[encoded data removed]",
            "text/plain": [
              "<Figure size 432x288 with 2 Axes>"
            ]
          },
          "metadata": {
            "needs_background": "light"
          }
        },
        {
          "output_type": "display_data",
          "data": {
            "image/png": "[encoded data removed]",
            "text/plain": [
              "<Figure size 432x288 with 1 Axes>"
            ]
          },
          "metadata": {
            "needs_background": "light"
          }
        }
      ]
    },
    {
      "cell_type": "code",
      "metadata": {
        "colab": {
          "base_uri": "https://localhost:8080/",
          "height": 173
        },
        "id": "aYGiPbGtleZV",
        "outputId": "14a0deb7-9f22-4d5f-e68d-9f2ab2e07cc9"
      },
      "source": [
        "metricas_do = pd.DataFrame()\n",
        "\n",
        "modelos = ['KNN PCA', 'Random Forest PCA', 'XG Boost PCA', 'Gradient Boosting PCA']\n",
        "f1_train = [0.94, 0.99, 0.80, 0.80]\n",
        "f1_test = [0.41, 0.47, 0.37, 0.37]\n",
        "AUC = [0.79, 0.87, 0.84, 0.84]\n",
        "metricas_do['modelo'] = modelos\n",
        "metricas_do['Valor Train f1 Score'] = f1_train\n",
        "metricas_do['Valor Test f1 Score'] = f1_test\n",
        "metricas_do['Curva ROC AUC'] = AUC\n",
        "metricas_do.sort_values(by=['Valor Train f1 Score', 'Valor Test f1 Score'], ascending=False, ignore_index=True)"
      ],
      "execution_count": null,
      "outputs": [
        {
          "output_type": "execute_result",
          "data": {
            "text/html": [
              "<div>\n",
              "<style scoped>\n",
              "    .dataframe tbody tr th:only-of-type {\n",
              "        vertical-align: middle;\n",
              "    }\n",
              "\n",
              "    .dataframe tbody tr th {\n",
              "        vertical-align: top;\n",
              "    }\n",
              "\n",
              "    .dataframe thead th {\n",
              "        text-align: right;\n",
              "    }\n",
              "</style>\n",
              "<table border=\"1\" class=\"dataframe\">\n",
              "  <thead>\n",
              "    <tr style=\"text-align: right;\">\n",
              "      <th></th>\n",
              "      <th>modelo</th>\n",
              "      <th>Valor Train f1 Score</th>\n",
              "      <th>Valor Test f1 Score</th>\n",
              "      <th>Curva ROC AUC</th>\n",
              "    </tr>\n",
              "  </thead>\n",
              "  <tbody>\n",
              "    <tr>\n",
              "      <th>0</th>\n",
              "      <td>Random Forest PCA</td>\n",
              "      <td>0.99</td>\n",
              "      <td>0.47</td>\n",
              "      <td>0.87</td>\n",
              "    </tr>\n",
              "    <tr>\n",
              "      <th>1</th>\n",
              "      <td>KNN PCA</td>\n",
              "      <td>0.94</td>\n",
              "      <td>0.41</td>\n",
              "      <td>0.79</td>\n",
              "    </tr>\n",
              "    <tr>\n",
              "      <th>2</th>\n",
              "      <td>XG Boost PCA</td>\n",
              "      <td>0.80</td>\n",
              "      <td>0.37</td>\n",
              "      <td>0.84</td>\n",
              "    </tr>\n",
              "    <tr>\n",
              "      <th>3</th>\n",
              "      <td>Gradient Boosting PCA</td>\n",
              "      <td>0.80</td>\n",
              "      <td>0.37</td>\n",
              "      <td>0.84</td>\n",
              "    </tr>\n",
              "  </tbody>\n",
              "</table>\n",
              "</div>"
            ],
            "text/plain": [
              "                  modelo  ...  Curva ROC AUC\n",
              "0      Random Forest PCA  ...           0.87\n",
              "1                KNN PCA  ...           0.79\n",
              "2           XG Boost PCA  ...           0.84\n",
              "3  Gradient Boosting PCA  ...           0.84\n",
              "\n",
              "[4 rows x 4 columns]"
            ]
          },
          "metadata": {},
          "execution_count": 166
        }
      ]
    },
    {
      "cell_type": "code",
      "metadata": {
        "colab": {
          "base_uri": "https://localhost:8080/",
          "height": 452
        },
        "id": "ixqRQXm8pEjO",
        "outputId": "de86ae34-eabe-471b-f3a6-7e7e38012bbb"
      },
      "source": [
        "metricas_sub = pd.DataFrame()\n",
        "\n",
        "modelos = ['KNN DO', 'Decision Tree DO', 'Random Forest DO', 'XG Boost DO', 'Gradient Boosting DO', 'KNN DB', 'Random Forest DB', 'XG Boost DB', 'Gradient Boosting DB', 'KNN PCA', 'Random Forest PCA', 'XG Boost PCA', 'Gradient Boosting PCA']\n",
        "f1_train = [0.47, 1, 0.96, 0.40, 0.44, 0.95, 0.99, 0.91, 0.91, 0.94, 0.99, 0.80, 0.80]\n",
        "f1_test = [0.26, 0.40, 0.42, 0.37, 0.39, 0.43, 0.54, 0.49, 0.49, 0.41, 0.47, 0.37, 0.37]\n",
        "AUC = [0.78, 0.69, 0.87, 0.90, 0.90, 0.81, 0.88, 0.90, 0.90, 0.79, 0.87, 0.84, 0.84]\n",
        "metricas_sub['modelo'] = modelos\n",
        "metricas_sub['Valor Train f1 Score'] = f1_train\n",
        "metricas_sub['Valor Test f1 Score'] = f1_test\n",
        "metricas_sub['Curva ROC AUC'] = AUC\n",
        "metricas_sub.sort_values(by=['Valor Train f1 Score', 'Valor Test f1 Score'], ascending=False, ignore_index=True)\n",
        "metricas_sub"
      ],
      "execution_count": null,
      "outputs": [
        {
          "output_type": "execute_result",
          "data": {
            "text/html": [
              "<div>\n",
              "<style scoped>\n",
              "    .dataframe tbody tr th:only-of-type {\n",
              "        vertical-align: middle;\n",
              "    }\n",
              "\n",
              "    .dataframe tbody tr th {\n",
              "        vertical-align: top;\n",
              "    }\n",
              "\n",
              "    .dataframe thead th {\n",
              "        text-align: right;\n",
              "    }\n",
              "</style>\n",
              "<table border=\"1\" class=\"dataframe\">\n",
              "  <thead>\n",
              "    <tr style=\"text-align: right;\">\n",
              "      <th></th>\n",
              "      <th>modelo</th>\n",
              "      <th>Valor Train f1 Score</th>\n",
              "      <th>Valor Test f1 Score</th>\n",
              "      <th>Curva ROC AUC</th>\n",
              "    </tr>\n",
              "  </thead>\n",
              "  <tbody>\n",
              "    <tr>\n",
              "      <th>0</th>\n",
              "      <td>KNN DO</td>\n",
              "      <td>0.47</td>\n",
              "      <td>0.26</td>\n",
              "      <td>0.78</td>\n",
              "    </tr>\n",
              "    <tr>\n",
              "      <th>1</th>\n",
              "      <td>Decision Tree DO</td>\n",
              "      <td>1.00</td>\n",
              "      <td>0.40</td>\n",
              "      <td>0.69</td>\n",
              "    </tr>\n",
              "    <tr>\n",
              "      <th>2</th>\n",
              "      <td>Random Forest DO</td>\n",
              "      <td>0.96</td>\n",
              "      <td>0.42</td>\n",
              "      <td>0.87</td>\n",
              "    </tr>\n",
              "    <tr>\n",
              "      <th>3</th>\n",
              "      <td>XG Boost DO</td>\n",
              "      <td>0.40</td>\n",
              "      <td>0.37</td>\n",
              "      <td>0.90</td>\n",
              "    </tr>\n",
              "    <tr>\n",
              "      <th>4</th>\n",
              "      <td>Gradient Boosting DO</td>\n",
              "      <td>0.44</td>\n",
              "      <td>0.39</td>\n",
              "      <td>0.90</td>\n",
              "    </tr>\n",
              "    <tr>\n",
              "      <th>5</th>\n",
              "      <td>KNN DB</td>\n",
              "      <td>0.95</td>\n",
              "      <td>0.43</td>\n",
              "      <td>0.81</td>\n",
              "    </tr>\n",
              "    <tr>\n",
              "      <th>6</th>\n",
              "      <td>Random Forest DB</td>\n",
              "      <td>0.99</td>\n",
              "      <td>0.54</td>\n",
              "      <td>0.88</td>\n",
              "    </tr>\n",
              "    <tr>\n",
              "      <th>7</th>\n",
              "      <td>XG Boost DB</td>\n",
              "      <td>0.91</td>\n",
              "      <td>0.49</td>\n",
              "      <td>0.90</td>\n",
              "    </tr>\n",
              "    <tr>\n",
              "      <th>8</th>\n",
              "      <td>Gradient Boosting DB</td>\n",
              "      <td>0.91</td>\n",
              "      <td>0.49</td>\n",
              "      <td>0.90</td>\n",
              "    </tr>\n",
              "    <tr>\n",
              "      <th>9</th>\n",
              "      <td>KNN PCA</td>\n",
              "      <td>0.94</td>\n",
              "      <td>0.41</td>\n",
              "      <td>0.79</td>\n",
              "    </tr>\n",
              "    <tr>\n",
              "      <th>10</th>\n",
              "      <td>Random Forest PCA</td>\n",
              "      <td>0.99</td>\n",
              "      <td>0.47</td>\n",
              "      <td>0.87</td>\n",
              "    </tr>\n",
              "    <tr>\n",
              "      <th>11</th>\n",
              "      <td>XG Boost PCA</td>\n",
              "      <td>0.80</td>\n",
              "      <td>0.37</td>\n",
              "      <td>0.84</td>\n",
              "    </tr>\n",
              "    <tr>\n",
              "      <th>12</th>\n",
              "      <td>Gradient Boosting PCA</td>\n",
              "      <td>0.80</td>\n",
              "      <td>0.37</td>\n",
              "      <td>0.84</td>\n",
              "    </tr>\n",
              "  </tbody>\n",
              "</table>\n",
              "</div>"
            ],
            "text/plain": [
              "                   modelo  ...  Curva ROC AUC\n",
              "0                  KNN DO  ...           0.78\n",
              "1        Decision Tree DO  ...           0.69\n",
              "2        Random Forest DO  ...           0.87\n",
              "3             XG Boost DO  ...           0.90\n",
              "4    Gradient Boosting DO  ...           0.90\n",
              "5                  KNN DB  ...           0.81\n",
              "6        Random Forest DB  ...           0.88\n",
              "7             XG Boost DB  ...           0.90\n",
              "8    Gradient Boosting DB  ...           0.90\n",
              "9                 KNN PCA  ...           0.79\n",
              "10      Random Forest PCA  ...           0.87\n",
              "11           XG Boost PCA  ...           0.84\n",
              "12  Gradient Boosting PCA  ...           0.84\n",
              "\n",
              "[13 rows x 4 columns]"
            ]
          },
          "metadata": {},
          "execution_count": 167
        }
      ]
    },
    {
      "cell_type": "markdown",
      "metadata": {
        "id": "dOCTOO-N3M1b"
      },
      "source": [
        "De acuerdo con los resultados anteriores, el Random Forest con los datos balanceados a través del método SMOTE, es el modelo con el mejor rendimiento de acuerdo con las métricas seleccionadas. \n",
        "\n",
        "Se procederá entonces a estimar hiperparámetros sobre éste para mejorar su rendimiento."
      ]
    },
    {
      "cell_type": "markdown",
      "metadata": {
        "id": "nvpvBDErtLj9"
      },
      "source": [
        "## **Estimación de Hiperparámetros**"
      ]
    },
    {
      "cell_type": "markdown",
      "metadata": {
        "id": "6Y27mBcitXf_"
      },
      "source": [
        "1. Se utilizó la curva de aprendizaje para estimar el mejor valor para el parámetro n_estimators, el cual quedó establecido primeramente en 121 en la ejcución de un rango de 0 a 200 n_estimators."
      ]
    },
    {
      "cell_type": "code",
      "metadata": {
        "colab": {
          "base_uri": "https://localhost:8080/",
          "height": 279
        },
        "id": "sjBPHLpTK55v",
        "outputId": "7fcbaa10-58dc-41fa-da3f-db9bf5803a36"
      },
      "source": [
        "from sklearn.model_selection import cross_val_score\n",
        "\n",
        "arbol_aleatorio_mejorado = RandomForestClassifier()\n",
        "score_pre = cross_val_score(arbol_aleatorio_mejorado, X_train_sm, y_train_sm, cv=10).mean()\n",
        "score_pre\n",
        "\n",
        "scorel = []\n",
        "for i in range(0,200,10):\n",
        "\tarbol_aleatorio_mejorado = RandomForestClassifier(n_estimators=i+1,n_jobs=-1,random_state=9)\n",
        "\tscore = cross_val_score(arbol_aleatorio_mejorado, X_train_sm, y_train_sm, cv=10).mean()\n",
        "\tscorel.append(score)\n",
        "print(max(scorel),(scorel.index(max(scorel))*10)+1)\n",
        "plt.figure(figsize=[20,5])\n",
        "plt.plot(range(1,201,10),scorel)\n",
        "plt.show()"
      ],
      "execution_count": null,
      "outputs": [
        {
          "output_type": "stream",
          "text": [
            "0.902044752781979 121\n"
          ],
          "name": "stdout"
        },
        {
          "output_type": "display_data",
          "data": {
            "image/png": "[encoded data removed]",
            "text/plain": [
              "<Figure size 1440x360 with 1 Axes>"
            ]
          },
          "metadata": {
            "needs_background": "light"
          }
        }
      ]
    },
    {
      "cell_type": "markdown",
      "metadata": {
        "id": "DoSVrOhGt-L0"
      },
      "source": [
        "Se ajustó el rango de acuerdo con la información proporcionada por la curva de aprendizaje de la primera ejecución, entre 110 a 130 n_estimators y se realizó de nuevo la medición, la cual quedó establecida sobre 115 n_estimators."
      ]
    },
    {
      "cell_type": "code",
      "metadata": {
        "colab": {
          "base_uri": "https://localhost:8080/",
          "height": 357
        },
        "id": "5PtY2kcpavXK",
        "outputId": "41b17577-f4a4-468c-ac95-e90a0839b1dd"
      },
      "source": [
        "scorel = []\n",
        "for i in range(110, 130):\n",
        "\tarbol_aleatorio_mejorado = RandomForestClassifier(n_estimators=i+1,n_jobs=-1,random_state=9)\n",
        "\tscore = cross_val_score(arbol_aleatorio_mejorado, X_train_sm, y_train_sm, cv=10).mean()\n",
        "\tscorel.append(score)\n",
        "print(max(scorel),([*range(110,130)][scorel.index(max(scorel))]))\n",
        "plt.figure(figsize=[20,5])\n",
        "plt.plot(range(110, 130),scorel)\n",
        "plt.show()"
      ],
      "execution_count": null,
      "outputs": [
        {
          "output_type": "stream",
          "text": [
            "0.9676519322749252 115\n"
          ],
          "name": "stdout"
        },
        {
          "output_type": "display_data",
          "data": {
            "image/png": "[encoded data removed]",
            "text/plain": [
              "<Figure size 1440x360 with 1 Axes>"
            ]
          },
          "metadata": {
            "needs_background": "light"
          }
        }
      ]
    },
    {
      "cell_type": "markdown",
      "metadata": {
        "id": "VLdKZNBNuyvB"
      },
      "source": [
        "2. Se procedió a ejecutar la curva de aprendizaje para encontrar el mejor valor de capas de profundidad para el parámetro max_depth, el cual quedó establecido en 41"
      ]
    },
    {
      "cell_type": "code",
      "metadata": {
        "colab": {
          "base_uri": "https://localhost:8080/",
          "height": 281
        },
        "id": "1YWpz6vUpZkL",
        "outputId": "6103d7e0-04a7-4dba-d015-249e2720231e"
      },
      "source": [
        "scorel = []\n",
        "for i in range(1, 50):\n",
        "\tarbol_aleatorio_mejorado = RandomForestClassifier(max_depth=i+1,n_jobs=-1,random_state=9)\n",
        "\tscore = cross_val_score(arbol_aleatorio_mejorado, X_train_sm, y_train_sm, cv=10).mean()\n",
        "\tscorel.append(score)\n",
        "print(max(scorel),([*range(1,50)][scorel.index(max(scorel))]))\n",
        "plt.figure(figsize=[20,5])\n",
        "plt.plot(range(1, 50),scorel)\n",
        "plt.show()"
      ],
      "execution_count": null,
      "outputs": [
        {
          "output_type": "stream",
          "text": [
            "0.9674483690764226 41\n"
          ],
          "name": "stdout"
        },
        {
          "output_type": "display_data",
          "data": {
            "image/png": "[encoded data removed]",
            "text/plain": [
              "<Figure size 1440x360 with 1 Axes>"
            ]
          },
          "metadata": {
            "needs_background": "light"
          }
        }
      ]
    },
    {
      "cell_type": "markdown",
      "metadata": {
        "id": "UOTp0kWFzI6N"
      },
      "source": [
        "Se entrena el modelo de nuevo con los valores de los parámetros n_estimators y max_depth obtenidos en la curva de aprendizaje. Sin embargo, para evitar el sobreajuste se define un max_depth de 28 de conformidad con la información provista por la gráfica."
      ]
    },
    {
      "cell_type": "code",
      "metadata": {
        "colab": {
          "base_uri": "https://localhost:8080/",
          "height": 745
        },
        "id": "qVsjWf1pWozA",
        "outputId": "575630b5-024a-47ec-a87e-6b2eb1f50ed7"
      },
      "source": [
        "arbol_aleatorio_m = RandomForestClassifier(n_estimators = 115,\n",
        "            max_depth    = 28,\n",
        "            max_features = 'auto',\n",
        "            oob_score    = False,\n",
        "            n_jobs       = -1,\n",
        "            random_state = 90)\n",
        "arbol_aleatorio_m.fit(X_train_sm, y_train_sm)\n",
        "\n",
        "y_pred_train = arbol_aleatorio_m.predict(X_train_sm)\n",
        "y_pred_test = arbol_aleatorio_m.predict(X_test)\n",
        "\n",
        "plot_confusion_matrix(arbol_aleatorio_m, X_test, y_test, display_labels=['No', 'Yes'], normalize='true', cmap='Blues');\n",
        "\n",
        "print(f'Train f1 Score: {f1_score(y_train_sm, y_pred_train)}')\n",
        "print(f'Test f1 Score: {f1_score(y_test, y_pred_test)}')\n",
        "print(classification_report(y_test, y_pred_test))\n",
        "\n",
        "#curva roc\n",
        "plot_roc_curve(arbol_aleatorio_balanceo, X_test, y_test, name = 'Random Forest balanceado')"
      ],
      "execution_count": null,
      "outputs": [
        {
          "output_type": "stream",
          "text": [
            "Train f1 Score: 0.9996300133195205\n",
            "Test f1 Score: 0.573082489146165\n",
            "              precision    recall  f1-score   support\n",
            "\n",
            "           0       0.96      0.95      0.96      6742\n",
            "           1       0.55      0.60      0.57       658\n",
            "\n",
            "    accuracy                           0.92      7400\n",
            "   macro avg       0.75      0.78      0.76      7400\n",
            "weighted avg       0.92      0.92      0.92      7400\n",
            "\n"
          ],
          "name": "stdout"
        },
        {
          "output_type": "execute_result",
          "data": {
            "text/plain": [
              "<sklearn.metrics._plot.roc_curve.RocCurveDisplay at 0x7f8c642c3d90>"
            ]
          },
          "metadata": {},
          "execution_count": 97
        },
        {
          "output_type": "display_data",
          "data": {
            "image/png": "[encoded data removed]",
            "text/plain": [
              "<Figure size 432x288 with 2 Axes>"
            ]
          },
          "metadata": {
            "needs_background": "light"
          }
        },
        {
          "output_type": "display_data",
          "data": {
            "image/png": "[encoded data removed]",
            "text/plain": [
              "<Figure size 432x288 with 1 Axes>"
            ]
          },
          "metadata": {
            "needs_background": "light"
          }
        }
      ]
    },
    {
      "cell_type": "markdown",
      "metadata": {
        "id": "0W6lWvUQwSEz"
      },
      "source": [
        "3. Ahora bien, se estiman los valores de los parámetros criterion y max_features usando el algoritmo de Búsqueda de Cuadrícula (Grid Search)"
      ]
    },
    {
      "cell_type": "code",
      "metadata": {
        "colab": {
          "base_uri": "https://localhost:8080/"
        },
        "id": "-ZYPyMy9woz_",
        "outputId": "761043ff-ae05-48c6-cb3b-7dd9066bc309"
      },
      "source": [
        "from sklearn.model_selection import GridSearchCV\n",
        "\n",
        "param_grid = {'criterion':['gini', 'entropy']}\n",
        "arbol_aleatorio_mejorado = RandomForestClassifier(n_estimators=115, max_depth=28, random_state=90)\n",
        "GS = GridSearchCV(arbol_aleatorio_mejorado,param_grid,cv=10)\n",
        "GS.fit(X_train_sm, y_train_sm)\n",
        "print(GS.best_params_)\n",
        "print(GS.best_score_)"
      ],
      "execution_count": null,
      "outputs": [
        {
          "output_type": "stream",
          "text": [
            "{'criterion': 'gini'}\n",
            "0.966671030007317\n"
          ],
          "name": "stdout"
        }
      ]
    },
    {
      "cell_type": "code",
      "metadata": {
        "colab": {
          "base_uri": "https://localhost:8080/"
        },
        "id": "nmhfFErHxzE9",
        "outputId": "38a383d6-f092-41d7-bed7-96ef07ae3cf4"
      },
      "source": [
        "param_grid = {'max_features':['auto', 'sqrt', 'log2', None]}\n",
        "arbol_aleatorio_mejorado = RandomForestClassifier(n_estimators=115, max_depth=32, criterion='gini', random_state=90)\n",
        "GS = GridSearchCV(arbol_aleatorio_mejorado,param_grid,cv=10)\n",
        "GS.fit(X_train_sm, y_train_sm)\n",
        "print(GS.best_params_)\n",
        "print(GS.best_score_)"
      ],
      "execution_count": null,
      "outputs": [
        {
          "output_type": "stream",
          "text": [
            "{'max_features': 'log2'}\n",
            "0.9674298094665449\n"
          ],
          "name": "stdout"
        }
      ]
    },
    {
      "cell_type": "markdown",
      "metadata": {
        "id": "NjNzYzJF6ROn"
      },
      "source": [
        "Se entrena de nuevo el modelo con todos los valores de los parámetros encontrados. \n",
        "\n",
        "Se logra incrementar el test f1 score a 0.59."
      ]
    },
    {
      "cell_type": "code",
      "metadata": {
        "colab": {
          "base_uri": "https://localhost:8080/",
          "height": 745
        },
        "id": "G6_LVII6y5p3",
        "outputId": "6d9eed57-bf60-40b5-fa71-97990d672627"
      },
      "source": [
        "arbol_aleatorio_m = RandomForestClassifier(n_estimators = 115,\n",
        "            max_depth    = 32,\n",
        "            max_features = 'log2',\n",
        "            criterion = 'gini',\n",
        "            oob_score    = False,\n",
        "            n_jobs       = -1,\n",
        "            random_state = 123)\n",
        "arbol_aleatorio_m.fit(X_train_sm, y_train_sm)\n",
        "\n",
        "y_pred_train = arbol_aleatorio_m.predict(X_train_sm)\n",
        "y_pred_test = arbol_aleatorio_m.predict(X_test)\n",
        "\n",
        "plot_confusion_matrix(arbol_aleatorio_m, X_test, y_test, display_labels=['No', 'Yes'], normalize='true', cmap='Blues');\n",
        "\n",
        "print(f'Train f1 Score: {f1_score(y_train_sm, y_pred_train)}')\n",
        "print(f'Test f1 Score: {f1_score(y_test, y_pred_test)}')\n",
        "print(classification_report(y_test, y_pred_test))\n",
        "\n",
        "#curva roc\n",
        "plot_roc_curve(arbol_aleatorio_balanceo, X_test, y_test, name = 'Random Forest balanceado')"
      ],
      "execution_count": null,
      "outputs": [
        {
          "output_type": "stream",
          "text": [
            "Train f1 Score: 0.9999814941614079\n",
            "Test f1 Score: 0.5901398086828551\n",
            "              precision    recall  f1-score   support\n",
            "\n",
            "           0       0.96      0.96      0.96      6742\n",
            "           1       0.57      0.61      0.59       658\n",
            "\n",
            "    accuracy                           0.92      7400\n",
            "   macro avg       0.77      0.78      0.77      7400\n",
            "weighted avg       0.93      0.92      0.93      7400\n",
            "\n"
          ],
          "name": "stdout"
        },
        {
          "output_type": "execute_result",
          "data": {
            "text/plain": [
              "<sklearn.metrics._plot.roc_curve.RocCurveDisplay at 0x7f8c643ac090>"
            ]
          },
          "metadata": {},
          "execution_count": 104
        },
        {
          "output_type": "display_data",
          "data": {
            "image/png": "[encoded data removed]",
            "text/plain": [
              "<Figure size 432x288 with 2 Axes>"
            ]
          },
          "metadata": {
            "needs_background": "light"
          }
        },
        {
          "output_type": "display_data",
          "data": {
            "image/png": "[encoded data removed]",
            "text/plain": [
              "<Figure size 432x288 with 1 Axes>"
            ]
          },
          "metadata": {
            "needs_background": "light"
          }
        }
      ]
    }
  ]
}