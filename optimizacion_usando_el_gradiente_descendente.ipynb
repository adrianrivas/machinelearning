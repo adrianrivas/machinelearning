{
  "cells": [
    {
      "cell_type": "markdown",
      "metadata": {
        "id": "a5Z4G-qhb4kb",
        "toc-hr-collapsed": false
      },
      "source": [
        "Optimización usando el gradiente descendente\n",
        "==="
      ]
    },
    {
      "cell_type": "code",
      "execution_count": 7,
      "metadata": {
        "id": "WpPySYr_b4kg"
      },
      "outputs": [
        {
          "name": "stdout",
          "output_type": "stream",
          "text": [
            "   Iterations         x         y    f(x,y)\n",
            "0         100 -1.436412  2.070779  5.941728\n",
            "1         500 -1.203561  1.456364  4.861773\n",
            "2        1000 -0.807119  0.659530  3.272222\n",
            "3        2000  0.499842  0.247335  0.250787\n",
            "4        3000  0.761484  0.578762  0.057010\n"
          ]
        }
      ],
      "source": [
        "#\n",
        "# A partir del código suministrado, determine la solucion encontrada y el valor\n",
        "# de la función de Rosenbrock para 100, 500, 1000, 2000 y 3000 iteraciones \n",
        "# partiendo siempre del mismo punto de arranque con coordenadas x = -0.5 y\n",
        "# y = 3.5. Use pandas para construir la tabla e imprimirla (use print).\n",
        "#\n",
        "# Rta/\n",
        "#    Iterations         x         y    f(x,y)\n",
        "# 0         100 -1.436412  2.070779  5.941728\n",
        "# 1         500 -1.203561  1.456364  4.861773\n",
        "# 2        1000 -0.807119  0.659530  3.272222\n",
        "# 3        2000  0.499842  0.247335  0.250787\n",
        "# 4        3000  0.761484  0.578762  0.057010\n",
        "#\n",
        "\n",
        "import numpy as np\n",
        "import pandas as pd\n",
        "\n",
        "def f(x, y):\n",
        "    return 100 * (x ** 2 - y) ** 2 + (1 - x) ** 2\n",
        "\n",
        "def g(x, y):\n",
        "    gx = 400 * x * (x ** 2 - y) - 2 * (1 - x)\n",
        "    gy = -200 * (x ** 2 - y)\n",
        "    return (gx, gy)\n",
        "\n",
        "def improve(x, y, mu):\n",
        "    gx, gy = g(x, y)\n",
        "    x = x - mu * gx\n",
        "    y = y - mu * gy\n",
        "    return (x, y)\n",
        "\n",
        "\n",
        "# Punto de inicio\n",
        "x = -0.5\n",
        "y = +3.5\n",
        "\n",
        "# Almacena la historia de los puntos recorridos\n",
        "array_ranges = [100, 500, 1000, 2000, 3000]\n",
        "array_x = []\n",
        "array_y = []\n",
        "array_f = []\n",
        "history_x = [x]\n",
        "history_y = [y]\n",
        "history_f = [f(x, y)]\n",
        "\n",
        "# ---->>> Inserte su codigo aquí ---->>>\n",
        "df = pd.DataFrame()\n",
        "df['Iterations'] = array_ranges\n",
        "df['x'] = None\n",
        "df['y'] = None\n",
        "df['f(x,y)'] = None\n",
        "datos = []\n",
        "\n",
        "# ---->>> Evaluación ---->>>\n",
        "for valuerange in df['Iterations']:\n",
        "    for epoch in range(valuerange):\n",
        "        x, y = improve(x, y, 0.001)\n",
        "        history_x.append(x)\n",
        "        history_y.append(y)\n",
        "        history_f.append(f(x, y))\n",
        "    array_x.append(history_x[-1])\n",
        "    array_y.append(history_y[-1])\n",
        "    array_f.append(history_f[-1])\n",
        "    datos.append(valuerange)\n",
        "    x = -0.5\n",
        "    y = +3.5\n",
        "\n",
        "df['x'] = array_x\n",
        "df['y'] = array_y\n",
        "df['f(x,y)'] = array_f\n",
        "print (df)"
      ]
    }
  ],
  "metadata": {
    "colab": {
      "name": "02-001_optimizacion_usando_el_gradiente_descendente.ipynb",
      "provenance": []
    },
    "interpreter": {
      "hash": "31f2aee4e71d21fbe5cf8b01ff0e069b9275f58929596ceb00d14d90e3e16cd6"
    },
    "kernelspec": {
      "display_name": "Python 3",
      "language": "python",
      "name": "python3"
    },
    "language_info": {
      "codemirror_mode": {
        "name": "ipython",
        "version": 3
      },
      "file_extension": ".py",
      "mimetype": "text/x-python",
      "name": "python",
      "nbconvert_exporter": "python",
      "pygments_lexer": "ipython3",
      "version": "3.9.7"
    }
  },
  "nbformat": 4,
  "nbformat_minor": 0
}
