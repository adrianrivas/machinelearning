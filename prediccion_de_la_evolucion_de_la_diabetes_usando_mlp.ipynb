{
 "cells": [
  {
   "cell_type": "markdown",
   "metadata": {
    "id": "dYD2WpvLuWmu"
   },
   "source": [
    "Predicción de la evolución de la diabetes en pacientes usando MLP\n",
    "==="
   ]
  },
  {
   "cell_type": "markdown",
   "metadata": {
    "id": "VctD0SxnuWmy"
   },
   "source": [
    "Se desea construir um modelo de regresión no lineal (redes neuronales artificiales) que permita pronósticar el progreso de la diabetes con un horizonte de doce meses con base en variables físicas y pruebas de laboratorio. Véase https://www4.stat.ncsu.edu/~boos/var.select/diabetes.html"
   ]
  },
  {
   "cell_type": "markdown",
   "metadata": {
    "id": "QcprY45buWmz"
   },
   "source": [
    "En este problema se tiene una base de datos de diez variables base (edad, sexo, índice de masa corporal, presión arterial, y seis variables medidas en sangre) para 442 pacientes, y un índice que mide el progreso de la diabetes un año después de la prueba. La columna Y es la variable explicada."
   ]
  },
  {
   "cell_type": "code",
   "execution_count": 20,
   "metadata": {
    "id": "DUn0pTSVuWmz"
   },
   "outputs": [
    {
     "name": "stdout",
     "output_type": "stream",
     "text": [
      "True\n"
     ]
    }
   ],
   "source": [
    "#\n",
    "# La muestra se encuentra dividida en tres partes:\n",
    "#\n",
    "#   * X_train, y_true_train: es la muestra para estimar los parametros optimos\n",
    "#\n",
    "#   * X_test, y_true_test: es la muestra para seleccionar la mejor configuración\n",
    "#\n",
    "#   * X_val, y_true_val: es la muestra para probar el modelo en productivo\n",
    "#\n",
    "#\n",
    "# Rta/\n",
    "# True\n",
    "#\n",
    "\n",
    "import warnings\n",
    "\n",
    "import pandas as pd\n",
    "import pytest\n",
    "from sklearn.neural_network import MLPRegressor\n",
    "from sklearn.metrics import mean_squared_error\n",
    "import matplotlib.pyplot as plt\n",
    "\n",
    "warnings.filterwarnings(\"ignore\")\n",
    "\n",
    "df = pd.read_csv(\"https://raw.githubusercontent.com/jdvelasq/datalabs/master/datasets/diabetes.csv\")\n",
    "\n",
    "##Colocar todas las columnas del dataset en escala de 0 a 1\n",
    "\n",
    "from sklearn.preprocessing import MinMaxScaler\n",
    "scaler = MinMaxScaler(feature_range=(0, 0.5))\n",
    "df_scaler = scaler.fit_transform(df)\n",
    "name_columns = list(df.columns)\n",
    "new_df = pd.DataFrame(df_scaler, columns = name_columns)\n",
    "\n",
    "## Establecer mis variables X y y a partir del dataset transformado\n",
    "y= new_df['target']\n",
    "X= new_df.drop(['target'], axis=1)\n",
    "\n",
    "## Particionamiento de los datos en 70% entrenamiento, 15% prueba y 15% validación en productivo.\n",
    "from sklearn.model_selection import train_test_split\n",
    "\n",
    "X_train, X_test, y_true_train, y_true_test = train_test_split(\n",
    "    X, \n",
    "    y, \n",
    "    test_size=0.3, \n",
    "    random_state=177\n",
    ")\n",
    "\n",
    "X_test, X_val, y_true_test, y_true_val = train_test_split(\n",
    "    X_test, \n",
    "    y_true_test, \n",
    "    test_size=0.5, \n",
    "    random_state=177\n",
    ")\n",
    "## Encontrar parámetros óptimos en modelo MLPRegressor\n",
    "from sklearn.model_selection import GridSearchCV\n",
    "\n",
    "param_grid = [\n",
    "    {\n",
    "        \"hidden_layer_sizes\": [(1,),(2,),(3,),(4,),(5,)],\n",
    "        \"random_state\": [1000,1001,1002,1003,1004,1005]\n",
    "    }\n",
    "]\n",
    "\n",
    "m = MLPRegressor(\n",
    "    activation = \"identity\",\n",
    "    solver = \"adam\",\n",
    "    learning_rate_init=0.001,    # Valor de la tasa de aprendizaje\n",
    "    max_iter=1000,                     # Número máximo de iteraciones\n",
    ")\n",
    "\n",
    "grid_search = GridSearchCV(estimator = m, param_grid=param_grid, cv=5) \n",
    "\n",
    "## Entrenar con el mejor modelo\n",
    "grid_search.fit(X_train, y_true_train)\n",
    "\n",
    "#Predecir el comportamiento con el mejor modelo\n",
    "y_pred = grid_search.predict(X_test)\n",
    "\n",
    "## Calcular el error de la predicción\n",
    "mse_val = mean_squared_error(y_true_test, y_pred)\n",
    "\n",
    "# ---->>> Evaluación ---->>>\n",
    "print(pytest.approx(mse_val, 0.0001) == 0.009535)\n",
    "##"
   ]
  }
 ],
 "metadata": {
  "celltoolbar": "Attachments",
  "colab": {
   "name": "07-001_prediccion_de_la_evolucion_de_la_diabetes_usando_mlp.ipynb",
   "provenance": []
  },
  "kernel_info": {
   "name": "python3"
  },
  "kernelspec": {
   "display_name": "Python 3 (ipykernel)",
   "language": "python",
   "name": "python3"
  },
  "language_info": {
   "codemirror_mode": {
    "name": "ipython",
    "version": 3
   },
   "file_extension": ".py",
   "mimetype": "text/x-python",
   "name": "python",
   "nbconvert_exporter": "python",
   "pygments_lexer": "ipython3",
   "version": "3.9.7"
  },
  "nteract": {
   "version": "0.7.1"
  },
  "varInspector": {
   "cols": {
    "lenName": 16,
    "lenType": 16,
    "lenVar": 40
   },
   "kernels_config": {
    "python": {
     "delete_cmd_postfix": "",
     "delete_cmd_prefix": "del ",
     "library": "var_list.py",
     "varRefreshCmd": "print(var_dic_list())"
    },
    "r": {
     "delete_cmd_postfix": ") ",
     "delete_cmd_prefix": "rm(",
     "library": "var_list.r",
     "varRefreshCmd": "cat(var_dic_list()) "
    }
   },
   "types_to_exclude": [
    "module",
    "function",
    "builtin_function_or_method",
    "instance",
    "_Feature"
   ],
   "window_display": false
  }
 },
 "nbformat": 4,
 "nbformat_minor": 1
}
